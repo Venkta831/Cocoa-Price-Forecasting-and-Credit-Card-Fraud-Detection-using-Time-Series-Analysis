{
 "cells": [
  {
   "cell_type": "markdown",
   "id": "7b2b839f-8bd9-436b-a778-09e4cdf0f9af",
   "metadata": {},
   "source": [
    "### TABA CA_2"
   ]
  },
  {
   "cell_type": "code",
   "execution_count": 142,
   "id": "0304caa7-1891-4a85-9531-64f833e9e946",
   "metadata": {},
   "outputs": [],
   "source": [
    "#library's load into the data\n",
    "library(forecast)\n",
    "library(tseries)\n",
    "library(ggplot2)\n",
    "library(fpp2)\n",
    "library(readr)\n",
    "\n"
   ]
  },
  {
   "cell_type": "code",
   "execution_count": 143,
   "id": "60211a63-a8ae-4c8b-83a8-703acc8ed63a",
   "metadata": {},
   "outputs": [],
   "source": [
    "#read the cocoaprice_dataset.\n",
    "cocoa_data <- read.csv( \"C:\\\\Users\\\\ADMIN\\\\Downloads\\\\CocoaPrice.csv\")"
   ]
  },
  {
   "cell_type": "code",
   "execution_count": 144,
   "id": "df561369-248e-4bb9-b402-b3be962fc0b9",
   "metadata": {},
   "outputs": [
    {
     "data": {
      "text/html": [
       "<table>\n",
       "<thead><tr><th scope=col>Date</th><th scope=col>Price</th></tr></thead>\n",
       "<tbody>\n",
       "\t<tr><td>1994-10-01</td><td>1447.95   </td></tr>\n",
       "\t<tr><td>1994-11-01</td><td>1437.05   </td></tr>\n",
       "\t<tr><td>1994-12-01</td><td>1399.43   </td></tr>\n",
       "\t<tr><td>1995-01-01</td><td>1468.86   </td></tr>\n",
       "\t<tr><td>1995-02-01</td><td>1510.55   </td></tr>\n",
       "\t<tr><td>1995-03-01</td><td>1484.91   </td></tr>\n",
       "</tbody>\n",
       "</table>\n"
      ],
      "text/latex": [
       "\\begin{tabular}{r|ll}\n",
       " Date & Price\\\\\n",
       "\\hline\n",
       "\t 1994-10-01 & 1447.95   \\\\\n",
       "\t 1994-11-01 & 1437.05   \\\\\n",
       "\t 1994-12-01 & 1399.43   \\\\\n",
       "\t 1995-01-01 & 1468.86   \\\\\n",
       "\t 1995-02-01 & 1510.55   \\\\\n",
       "\t 1995-03-01 & 1484.91   \\\\\n",
       "\\end{tabular}\n"
      ],
      "text/markdown": [
       "\n",
       "| Date | Price |\n",
       "|---|---|\n",
       "| 1994-10-01 | 1447.95    |\n",
       "| 1994-11-01 | 1437.05    |\n",
       "| 1994-12-01 | 1399.43    |\n",
       "| 1995-01-01 | 1468.86    |\n",
       "| 1995-02-01 | 1510.55    |\n",
       "| 1995-03-01 | 1484.91    |\n",
       "\n"
      ],
      "text/plain": [
       "  Date       Price  \n",
       "1 1994-10-01 1447.95\n",
       "2 1994-11-01 1437.05\n",
       "3 1994-12-01 1399.43\n",
       "4 1995-01-01 1468.86\n",
       "5 1995-02-01 1510.55\n",
       "6 1995-03-01 1484.91"
      ]
     },
     "metadata": {},
     "output_type": "display_data"
    }
   ],
   "source": [
    "#to check the first few rows of the data\n",
    "head(cocoa_data)"
   ]
  },
  {
   "cell_type": "code",
   "execution_count": 145,
   "id": "f5129dbc-5a1f-4bc0-83cd-f3583ca8a57b",
   "metadata": {},
   "outputs": [
    {
     "data": {
      "text/html": [
       "<table>\n",
       "<thead><tr><th></th><th scope=col>Date</th><th scope=col>Price</th></tr></thead>\n",
       "<tbody>\n",
       "\t<tr><th scope=row>349</th><td>2023-10-01</td><td>3495.03   </td></tr>\n",
       "\t<tr><th scope=row>350</th><td>2023-11-01</td><td>3799.15   </td></tr>\n",
       "\t<tr><th scope=row>351</th><td>2023-12-01</td><td>3897.04   </td></tr>\n",
       "\t<tr><th scope=row>352</th><td>2024-01-01</td><td>4087.54   </td></tr>\n",
       "\t<tr><th scope=row>353</th><td>2024-02-01</td><td>5226.12   </td></tr>\n",
       "\t<tr><th scope=row>354</th><td>2024-03-01</td><td>6510.16   </td></tr>\n",
       "</tbody>\n",
       "</table>\n"
      ],
      "text/latex": [
       "\\begin{tabular}{r|ll}\n",
       "  & Date & Price\\\\\n",
       "\\hline\n",
       "\t349 & 2023-10-01 & 3495.03   \\\\\n",
       "\t350 & 2023-11-01 & 3799.15   \\\\\n",
       "\t351 & 2023-12-01 & 3897.04   \\\\\n",
       "\t352 & 2024-01-01 & 4087.54   \\\\\n",
       "\t353 & 2024-02-01 & 5226.12   \\\\\n",
       "\t354 & 2024-03-01 & 6510.16   \\\\\n",
       "\\end{tabular}\n"
      ],
      "text/markdown": [
       "\n",
       "| <!--/--> | Date | Price |\n",
       "|---|---|---|\n",
       "| 349 | 2023-10-01 | 3495.03    |\n",
       "| 350 | 2023-11-01 | 3799.15    |\n",
       "| 351 | 2023-12-01 | 3897.04    |\n",
       "| 352 | 2024-01-01 | 4087.54    |\n",
       "| 353 | 2024-02-01 | 5226.12    |\n",
       "| 354 | 2024-03-01 | 6510.16    |\n",
       "\n"
      ],
      "text/plain": [
       "    Date       Price  \n",
       "349 2023-10-01 3495.03\n",
       "350 2023-11-01 3799.15\n",
       "351 2023-12-01 3897.04\n",
       "352 2024-01-01 4087.54\n",
       "353 2024-02-01 5226.12\n",
       "354 2024-03-01 6510.16"
      ]
     },
     "metadata": {},
     "output_type": "display_data"
    }
   ],
   "source": [
    "#to check the last few rows of the data\n",
    "tail(cocoa_data)"
   ]
  },
  {
   "cell_type": "code",
   "execution_count": 146,
   "id": "1ecfa6bb-462c-46d0-bce5-7168933d92e4",
   "metadata": {},
   "outputs": [
    {
     "data": {
      "text/html": [
       "'data.frame'"
      ],
      "text/latex": [
       "'data.frame'"
      ],
      "text/markdown": [
       "'data.frame'"
      ],
      "text/plain": [
       "[1] \"data.frame\""
      ]
     },
     "metadata": {},
     "output_type": "display_data"
    }
   ],
   "source": [
    "class(cocoa_data)"
   ]
  },
  {
   "cell_type": "code",
   "execution_count": 147,
   "id": "ee0ce60b-7b96-4274-97ed-a6f65ae1a8eb",
   "metadata": {},
   "outputs": [
    {
     "data": {
      "text/plain": [
       "         Date         Price       \n",
       " 1994-10-01:  1   Min.   : 874.1  \n",
       " 1994-11-01:  1   1st Qu.:1396.1  \n",
       " 1994-12-01:  1   Median :1806.0  \n",
       " 1995-01-01:  1   Mean   :1853.0  \n",
       " 1995-02-01:  1   3rd Qu.:2168.5  \n",
       " 1995-03-01:  1   Max.   :6510.2  \n",
       " (Other)   :348                   "
      ]
     },
     "metadata": {},
     "output_type": "display_data"
    }
   ],
   "source": [
    "#to produce result summaries of various objects\n",
    "summary(cocoa_data)"
   ]
  },
  {
   "cell_type": "code",
   "execution_count": 148,
   "id": "660d729b-eb46-47ce-8e4b-500d9cbbc145",
   "metadata": {},
   "outputs": [
    {
     "data": {
      "text/html": [
       "0"
      ],
      "text/latex": [
       "0"
      ],
      "text/markdown": [
       "0"
      ],
      "text/plain": [
       "[1] 0"
      ]
     },
     "metadata": {},
     "output_type": "display_data"
    }
   ],
   "source": [
    "#checking for the null values\n",
    "sum(is.na(cocoa_data))"
   ]
  },
  {
   "cell_type": "code",
   "execution_count": 151,
   "id": "5211cb38-bc88-4ee9-b992-c6dd5331ddb8",
   "metadata": {},
   "outputs": [
    {
     "name": "stdout",
     "output_type": "stream",
     "text": [
      "'data.frame':\t354 obs. of  2 variables:\n",
      " $ Date : Factor w/ 354 levels \"1994-10-01\",\"1994-11-01\",..: 1 2 3 4 5 6 7 8 9 10 ...\n",
      " $ Price: num  1448 1437 1399 1469 1511 ...\n"
     ]
    }
   ],
   "source": [
    "#checking the string\n",
    "str(cocoa_data)"
   ]
  },
  {
   "cell_type": "code",
   "execution_count": 152,
   "id": "e7d30416-08db-4e84-b3be-fe7f64a42f25",
   "metadata": {},
   "outputs": [],
   "source": [
    " cocoa_data$Date <- as.Date(cocoa_data$Date, format = \"%Y-%m-%d\")"
   ]
  },
  {
   "cell_type": "code",
   "execution_count": 153,
   "id": "45a2e355-a138-45dc-9a38-8cb3b1ae4e6b",
   "metadata": {},
   "outputs": [
    {
     "name": "stdout",
     "output_type": "stream",
     "text": [
      "         Jan     Feb     Mar     Apr     May     Jun     Jul     Aug     Sep\n",
      "1994                                                                        \n",
      "1995 1468.86 1510.55 1484.91 1469.26 1445.32 1437.14 1364.10 1413.00 1396.86\n",
      "1996 1349.50 1369.81 1338.62 1456.24 1524.09 1537.60 1495.70 1499.86 1476.14\n",
      "1997 1428.45 1372.70 1523.60 1571.05 1568.29 1688.38 1677.30 1652.14 1769.64\n",
      "1998 1668.10 1640.85 1719.18 1726.38 1794.35 1721.86 1712.17 1683.62 1687.32\n",
      "1999 1254.90 1257.40 1206.52 1108.00  998.75 1119.73 1074.77  980.86 1009.86\n",
      "2000  906.38  874.14  966.70  962.95 1003.68  991.00  996.62  970.35 1013.57\n",
      "2001 1031.86 1257.00 1236.73 1212.60 1233.23 1140.10 1123.82 1147.17 1118.85\n",
      "2002 1567.59 1713.35 1815.35 1770.91 1749.78 1734.60 1881.78 2004.27 2206.19\n",
      "2003 2055.27 2076.40 1847.48 1774.86 1515.81 1352.76 1372.35 1410.62 1450.73\n",
      "2004 1286.43 1240.85 1226.57 1199.19 1178.15 1159.27 1271.91 1418.73 1261.05\n",
      "2005 1181.00 1255.70 1331.45 1225.67 1190.52 1266.41 1237.38 1205.48 1227.36\n",
      "2006 1301.38 1294.30 1283.83 1263.95 1248.86 1269.32 1321.38 1257.26 1231.33\n",
      "2007 1310.18 1386.45 1452.59 1462.55 1483.32 1502.57 1568.77 1395.91 1393.45\n",
      "2008 1505.59 1709.48 1721.05 1668.32 1729.43 1941.90 1874.61 1880.14 1866.73\n",
      "2009 1985.29 2068.10 1922.59 1935.05 1817.80 1926.50 1980.87 2072.52 2157.45\n",
      "2010 2470.30 2395.70 2276.96 2402.38 2528.90 2643.59 2523.64 2380.05 2196.36\n",
      "2011 2366.30 2542.10 2421.22 2168.05 2142.33 2094.14 2217.00 2137.70 2087.59\n",
      "2012 1789.05 1779.62 1785.73 1721.70 1807.83 1805.29 1912.23 2025.00 2036.20\n",
      "2013 1710.73 1646.40 1662.25 1761.45 1806.68 1730.30 1764.57 1865.50 1958.81\n",
      "2014 2070.82 2191.20 2199.48 2209.10 2205.86 2334.86 2361.22 2456.19 2497.64\n",
      "2015 2514.76 2595.65 2662.59 2653.43 2773.05 2886.50 3023.78 2832.05 2920.68\n",
      "2016 2720.15 2628.86 2762.23 2713.90 2738.29 2779.36 2757.90 2706.39 2569.27\n",
      "2017 2064.67 1910.20 1924.26 1830.37 1794.77 1778.95 1726.10 1683.57 1677.24\n",
      "2018 1599.77 1719.75 2030.00 2139.86 2249.73 2064.62 2017.45 1880.43 1882.15\n",
      "2019 1982.14 1987.95 1948.19 2074.95 2069.32 2131.85 2154.70 1972.36 2093.19\n",
      "2020 2346.14 2490.95 2118.68 2089.05 2123.75 1979.50 1831.07 1969.46 2070.42\n",
      "2021 1965.34 1988.79 2068.94 1977.85 1986.69 1965.17 1968.23 2111.52 2173.62\n",
      "2022 2179.34 2247.93 2234.49 2273.07 2237.81 2197.33 2200.62 2242.10 2243.96\n",
      "2023 2357.59 2418.26 2491.37 2575.00 2673.46 2880.87 3028.41 3157.00 3395.58\n",
      "2024 4087.54 5226.12 6510.16                                                \n",
      "         Oct     Nov     Dec\n",
      "1994 1447.95 1437.05 1399.43\n",
      "1995 1394.50 1436.50 1378.84\n",
      "1996 1477.04 1469.33 1474.30\n",
      "1997 1741.43 1694.80 1737.29\n",
      "1998 1646.41 1388.52 1288.09\n",
      "1999  954.57  893.64  909.14\n",
      "2000 1027.73  936.09  893.75\n",
      "2001 1197.35 1397.77 1497.00\n",
      "2002 2246.57 1811.29 1985.00\n",
      "2003 1265.57 1289.90 1324.14\n",
      "2004 1187.76 1278.18 1230.00\n",
      "2005 1208.24 1217.23 1279.71\n",
      "2006 1212.32 1226.73 1289.55\n",
      "2007 1345.65 1339.77 1452.05\n",
      "2008 1692.52 1622.80 1816.23\n",
      "2009 2276.14 2268.90 2399.41\n",
      "2010 2106.24 2133.95 2314.13\n",
      "2011 1952.48 1863.82 1670.38\n",
      "2012 1898.87 1930.86 1837.80\n",
      "2013 2001.91 2042.05 2060.86\n",
      "2014 2446.00 2332.30 2400.73\n",
      "2015 2848.09 3134.86 3072.68\n",
      "2016 2460.05 2318.86 2168.71\n",
      "2017 1783.95 1812.32 1620.25\n",
      "2018 1858.39 1922.82 1940.35\n",
      "2019 2202.57 2280.90 2200.00\n",
      "2020 1947.42 1992.33 1978.37\n",
      "2021 2213.91 2098.42 2109.78\n",
      "2022 2281.01 2333.84 2319.35\n",
      "2023 3495.03 3799.15 3897.04\n",
      "2024                        \n"
     ]
    }
   ],
   "source": [
    "#converting it into the time series format\n",
    "start_year <- as.numeric(format(min(cocoa_data$Date), \"%Y\"))\n",
    "start_month <- as.numeric(format(min(cocoa_data$Date), \"%m\"))\n",
    "cocoa_ts <- ts(cocoa_data$Price, start=c(start_year, start_month), frequency=12)\n",
    "\n",
    "# Display the time series data\n",
    "print(cocoa_ts)"
   ]
  },
  {
   "cell_type": "code",
   "execution_count": 155,
   "id": "fc6ce856-cf16-4903-8c97-8de16e3a57a7",
   "metadata": {},
   "outputs": [
    {
     "data": {
      "text/html": [
       "'ts'"
      ],
      "text/latex": [
       "'ts'"
      ],
      "text/markdown": [
       "'ts'"
      ],
      "text/plain": [
       "[1] \"ts\""
      ]
     },
     "metadata": {},
     "output_type": "display_data"
    }
   ],
   "source": [
    "class(cocoa_ts)"
   ]
  },
  {
   "cell_type": "code",
   "execution_count": 156,
   "id": "1e31106a-6263-45c7-9832-d6d070911ef4",
   "metadata": {},
   "outputs": [
    {
     "data": {
      "text/html": [
       "<ol class=list-inline>\n",
       "\t<li>1994</li>\n",
       "\t<li>10</li>\n",
       "</ol>\n"
      ],
      "text/latex": [
       "\\begin{enumerate*}\n",
       "\\item 1994\n",
       "\\item 10\n",
       "\\end{enumerate*}\n"
      ],
      "text/markdown": [
       "1. 1994\n",
       "2. 10\n",
       "\n",
       "\n"
      ],
      "text/plain": [
       "[1] 1994   10"
      ]
     },
     "metadata": {},
     "output_type": "display_data"
    }
   ],
   "source": [
    "#prints the 1st row of the dataset\n",
    "start(cocoa_ts)"
   ]
  },
  {
   "cell_type": "code",
   "execution_count": 157,
   "id": "3dcbf1d8-f27b-4003-990f-c8e242d3d337",
   "metadata": {},
   "outputs": [
    {
     "data": {
      "text/html": [
       "<ol class=list-inline>\n",
       "\t<li>2024</li>\n",
       "\t<li>3</li>\n",
       "</ol>\n"
      ],
      "text/latex": [
       "\\begin{enumerate*}\n",
       "\\item 2024\n",
       "\\item 3\n",
       "\\end{enumerate*}\n"
      ],
      "text/markdown": [
       "1. 2024\n",
       "2. 3\n",
       "\n",
       "\n"
      ],
      "text/plain": [
       "[1] 2024    3"
      ]
     },
     "metadata": {},
     "output_type": "display_data"
    }
   ],
   "source": [
    "#prints the last row of the dataset\n",
    "end(cocoa_ts)"
   ]
  },
  {
   "cell_type": "code",
   "execution_count": 158,
   "id": "216e4da6-79f1-449d-931b-98fde8f339f3",
   "metadata": {},
   "outputs": [
    {
     "data": {
      "text/html": [
       "12"
      ],
      "text/latex": [
       "12"
      ],
      "text/markdown": [
       "12"
      ],
      "text/plain": [
       "[1] 12"
      ]
     },
     "metadata": {},
     "output_type": "display_data"
    }
   ],
   "source": [
    "#to check how many data points per time unit are expected in a time series.\n",
    "frequency(cocoa_ts)"
   ]
  },
  {
   "cell_type": "markdown",
   "id": "f28a732d-55f1-42bf-8f9e-a8e2a8df41a3",
   "metadata": {},
   "source": [
    "## Visualization of cocoaprice data"
   ]
  },
  {
   "cell_type": "code",
   "execution_count": 159,
   "id": "87cdde38-1abe-4cbe-8987-b95f0991649d",
   "metadata": {},
   "outputs": [
    {
     "data": {
      "image/png": "[encoded data removed]",
      "text/plain": [
       "Plot with title \"Monthly Cocoa Prices\""
      ]
     },
     "metadata": {},
     "output_type": "display_data"
    }
   ],
   "source": [
    "plot(cocoa_data$Date, cocoa_data$Price, type = \"l\", col = \"yellow\", main = \"Monthly Cocoa Prices\",\n",
    "     xlab = \"Date\", ylab = \"Price\", lwd = 2)\n",
    "points(cocoa_data$Date, cocoa_data$Price, col = \"green\", pch = 20) "
   ]
  },
  {
   "cell_type": "code",
   "execution_count": 160,
   "id": "c4a5996e-1d58-4996-a59a-f6a239911f7b",
   "metadata": {},
   "outputs": [
    {
     "data": {
      "image/png": "[encoded data removed]",
      "text/plain": [
       "Plot with title \"Monthly Average Cocoa Prices\""
      ]
     },
     "metadata": {},
     "output_type": "display_data"
    }
   ],
   "source": [
    "# Convert Date column to Date type\n",
    "cocoa_data$Date <- as.Date(cocoa_data$Date)\n",
    "\n",
    "# Plot the raw time series\n",
    "plot(cocoa_data$Date, cocoa_data$Price, type='l', \n",
    "     main='Monthly Average Cocoa Prices',\n",
    "     xlab='Date', ylab='Price',\n",
    "     col='blue', lwd=2)\n"
   ]
  },
  {
   "cell_type": "markdown",
   "id": "708543f1-dc9c-4ce5-8020-cca63a29a2d9",
   "metadata": {},
   "source": [
    "### Additive Decomposition "
   ]
  },
  {
   "cell_type": "code",
   "execution_count": 161,
   "id": "ca3dd9fa-4528-4a35-89fa-c37ccf62b8bf",
   "metadata": {},
   "outputs": [
    {
     "data": {
      "image/png": "[encoded data removed]",
      "text/plain": [
       "plot without title"
      ]
     },
     "metadata": {},
     "output_type": "display_data"
    }
   ],
   "source": [
    "cocoa_ts <- ts(cocoa_data$Price, start = c(1995, 10), frequency = 12)\n",
    "\n",
    "fit.add <- decompose(cocoa_ts, type='additive')\n",
    "plot(fit.add)"
   ]
  },
  {
   "cell_type": "markdown",
   "id": "dcdaa270-65a6-4195-bb6c-f1ce3740e6a9",
   "metadata": {},
   "source": [
    "### multiplicative decomposition"
   ]
  },
  {
   "cell_type": "code",
   "execution_count": 162,
   "id": "3d2ecd07-7c1a-477d-9d26-77f5da0bceec",
   "metadata": {},
   "outputs": [
    {
     "data": {
      "image/png": "[encoded data removed]",
      "text/plain": [
       "plot without title"
      ]
     },
     "metadata": {},
     "output_type": "display_data"
    }
   ],
   "source": [
    "#multipicative decomposition\n",
    "fit.lstl <- stl(cocoa_ts, s.window=\"period\")\n",
    "plot(fit.lstl)"
   ]
  },
  {
   "cell_type": "markdown",
   "id": "8d15b4d2-a575-4ca3-a292-abd1f2c3716b",
   "metadata": {},
   "source": [
    "### Box plot"
   ]
  },
  {
   "cell_type": "code",
   "execution_count": 163,
   "id": "6cf30f71-0fe8-4f75-8b9b-1e972269082e",
   "metadata": {},
   "outputs": [
    {
     "data": {
      "image/png": "[encoded data removed]",
      "text/plain": [
       "plot without title"
      ]
     },
     "metadata": {},
     "output_type": "display_data"
    }
   ],
   "source": [
    "#cycle(cocoa_ts)\n",
    "boxplot(cocoa_ts~cycle(cocoa_ts), col='violet')"
   ]
  },
  {
   "cell_type": "markdown",
   "id": "7297afed-1112-4c1a-929a-dd26d8aab5f7",
   "metadata": {},
   "source": [
    "### Regression Models"
   ]
  },
  {
   "cell_type": "code",
   "execution_count": 164,
   "id": "0c8864d0-0f4e-47b2-9a9c-e08d57d9a82d",
   "metadata": {},
   "outputs": [
    {
     "data": {
      "image/png": "[encoded data removed]",
      "text/plain": [
       "plot without title"
      ]
     },
     "metadata": {},
     "output_type": "display_data"
    }
   ],
   "source": [
    "#Regression Models\n",
    "#4.1 Linear Model\n",
    "cocoaMod <- lm(cocoa_ts~time(cocoa_ts))\n",
    "plot(cocoa_ts, col='blue')\n",
    "x <- as.vector(time(cocoa_ts))\n",
    "y <- predict.lm(cocoaMod)\n",
    "lines(x, y, col='pink', lw=4)"
   ]
  },
  {
   "cell_type": "code",
   "execution_count": 165,
   "id": "e50bccdc-28fd-42d2-8461-25316733794b",
   "metadata": {},
   "outputs": [
    {
     "data": {
      "image/png": "[encoded data removed]",
      "text/plain": [
       "Plot with title \"\""
      ]
     },
     "metadata": {},
     "output_type": "display_data"
    }
   ],
   "source": [
    "par(mfrow=c(2,2))\n",
    "plot(cocoaMod)"
   ]
  },
  {
   "cell_type": "code",
   "execution_count": 166,
   "id": "d53c234a-7542-4fe3-8e7f-9c1e23ce87f2",
   "metadata": {},
   "outputs": [
    {
     "data": {
      "text/plain": [
       "\n",
       "Call:\n",
       "lm(formula = cocoa_ts ~ time(cocoa_ts))\n",
       "\n",
       "Residuals:\n",
       "   Min     1Q Median     3Q    Max \n",
       "-671.5 -353.1 -110.4  282.1 3936.9 \n",
       "\n",
       "Coefficients:\n",
       "                 Estimate Std. Error t value Pr(>|t|)    \n",
       "(Intercept)    -96601.007   5813.128  -16.62   <2e-16 ***\n",
       "time(cocoa_ts)     48.971      2.891   16.94   <2e-16 ***\n",
       "---\n",
       "Signif. codes:  0 '***' 0.001 '**' 0.01 '*' 0.05 '.' 0.1 ' ' 1\n",
       "\n",
       "Residual standard error: 463.3 on 352 degrees of freedom\n",
       "Multiple R-squared:  0.449,\tAdjusted R-squared:  0.4474 \n",
       "F-statistic: 286.8 on 1 and 352 DF,  p-value: < 2.2e-16\n"
      ]
     },
     "metadata": {},
     "output_type": "display_data"
    }
   ],
   "source": [
    "summary(cocoaMod)"
   ]
  },
  {
   "cell_type": "code",
   "execution_count": 167,
   "id": "2db8c7e3-0945-44a1-87a4-8ca7f8ad923e",
   "metadata": {},
   "outputs": [
    {
     "data": {
      "image/png": "[encoded data removed]",
      "text/plain": [
       "plot without title"
      ]
     },
     "metadata": {},
     "output_type": "display_data"
    }
   ],
   "source": [
    "#Logarithmic Model\n",
    "cocoaMod <- lm(log(cocoa_ts)~time(cocoa_ts))\n",
    "plot(cocoa_ts, col='blue')\n",
    "x <- as.vector(time(cocoa_ts))\n",
    "y <- exp(predict.lm(cocoaMod))\n",
    "lines(x, y, col='pink', lw=4)"
   ]
  },
  {
   "cell_type": "code",
   "execution_count": 168,
   "id": "705402fe-21cf-47f6-ad78-7f7e9a52c2e1",
   "metadata": {},
   "outputs": [
    {
     "data": {
      "image/png": "[encoded data removed]",
      "text/plain": [
       "Plot with title \"\""
      ]
     },
     "metadata": {},
     "output_type": "display_data"
    }
   ],
   "source": [
    "par(mfrow=c(2,2))\n",
    "plot(cocoaMod)\n"
   ]
  },
  {
   "cell_type": "code",
   "execution_count": 169,
   "id": "6e18e948-df2b-4767-9948-32da74da9200",
   "metadata": {},
   "outputs": [
    {
     "data": {
      "text/plain": [
       "\n",
       "Call:\n",
       "lm(formula = log(cocoa_ts) ~ time(cocoa_ts))\n",
       "\n",
       "Residuals:\n",
       "     Min       1Q   Median       3Q      Max \n",
       "-0.46020 -0.17464 -0.03651  0.17473  0.92533 \n",
       "\n",
       "Coefficients:\n",
       "                 Estimate Std. Error t value Pr(>|t|)    \n",
       "(Intercept)    -44.477732   2.717018  -16.37   <2e-16 ***\n",
       "time(cocoa_ts)   0.025842   0.001351   19.12   <2e-16 ***\n",
       "---\n",
       "Signif. codes:  0 '***' 0.001 '**' 0.01 '*' 0.05 '.' 0.1 ' ' 1\n",
       "\n",
       "Residual standard error: 0.2165 on 352 degrees of freedom\n",
       "Multiple R-squared:  0.5095,\tAdjusted R-squared:  0.5081 \n",
       "F-statistic: 365.6 on 1 and 352 DF,  p-value: < 2.2e-16\n"
      ]
     },
     "metadata": {},
     "output_type": "display_data"
    }
   ],
   "source": [
    "summary(cocoaMod)"
   ]
  },
  {
   "cell_type": "markdown",
   "id": "89374613-143c-4453-9dd6-ccc4d32a7780",
   "metadata": {},
   "source": [
    "### Simple Exponential Smoothing"
   ]
  },
  {
   "cell_type": "code",
   "execution_count": 170,
   "id": "ef3d35f5-bbec-48f9-856c-0e1fd5576ff8",
   "metadata": {},
   "outputs": [],
   "source": [
    "#train and test the data\n",
    "train <- window(cocoa_ts, end=c(2023, 9))#taking from 1994 to 2023 sep as train data\n",
    "test <- window(cocoa_ts, start=c(2023, 10), end=c(2024, 3))#taking from 2023 oct to 2024 mar as test data"
   ]
  },
  {
   "cell_type": "code",
   "execution_count": 171,
   "id": "d64c2e19-4491-486d-a3fc-877109075425",
   "metadata": {},
   "outputs": [],
   "source": [
    "## Simple Exponential Smoothing\n",
    "nhfit <- ses(train, h=length(test))"
   ]
  },
  {
   "cell_type": "code",
   "execution_count": 172,
   "id": "3ea20fb8-11f0-4105-b5fd-5f5e9f330a54",
   "metadata": {},
   "outputs": [
    {
     "data": {
      "image/png": "[encoded data removed]",
      "text/plain": [
       "Plot with title \"Forecasts from Simple exponential smoothing\""
      ]
     },
     "metadata": {},
     "output_type": "display_data"
    }
   ],
   "source": [
    "plot(nhfit, lw=2, col='green')\n",
    "\n",
    "x <- as.vector(time(train))\n",
    "y <- nhfit$fitted\n",
    "lines(x, y, col='orange', lw=4)\n",
    "\n",
    "x <- as.vector(time(test))\n",
    "y <- test\n",
    "lines(x, y, col='pink', lwd=3)\n",
    "\n",
    "abline(v=seq(1994, 2024, length.out=7), lwd=0.5)\n",
    "abline(h=48:55, lwd=0.5)"
   ]
  },
  {
   "cell_type": "code",
   "execution_count": 174,
   "id": "19c21984-3fdc-4dd2-b431-e66b58c0a1f1",
   "metadata": {},
   "outputs": [
    {
     "data": {
      "text/plain": [
       "         Point Forecast    Lo 80    Hi 80    Lo 95    Hi 95\n",
       "Oct 2023        2243.96 2118.067 2369.852 2051.424 2436.496\n",
       "Nov 2023        2243.96 2065.930 2421.990 1971.686 2516.233\n",
       "Dec 2023        2243.96 2025.922 2461.998 1910.500 2577.420\n",
       "Jan 2024        2243.96 1992.194 2495.726 1858.917 2629.003\n",
       "Feb 2024        2243.96 1962.478 2525.442 1813.470 2674.449\n",
       "Mar 2024        2243.96 1935.613 2552.307 1772.384 2715.536"
      ]
     },
     "metadata": {},
     "output_type": "display_data"
    }
   ],
   "source": [
    " #holds the result of a model fitting process\n",
    "nhfit"
   ]
  },
  {
   "cell_type": "code",
   "execution_count": 179,
   "id": "e302e0a5-98c7-43c0-9f26-9b7a59b1dbde",
   "metadata": {},
   "outputs": [
    {
     "data": {
      "text/plain": [
       "Simple exponential smoothing \n",
       "\n",
       "Call:\n",
       " ses(y = train, h = length(test)) \n",
       "\n",
       "  Smoothing parameters:\n",
       "    alpha = 0.9999 \n",
       "\n",
       "  Initial states:\n",
       "    l = 1448.1349 \n",
       "\n",
       "  sigma:  98.2345\n",
       "\n",
       "     AIC     AICc      BIC \n",
       "5041.248 5041.320 5052.699 "
      ]
     },
     "metadata": {},
     "output_type": "display_data"
    }
   ],
   "source": [
    " #the accessing the model component of a fitted model object stored in nhfit\n",
    "nhfit$model"
   ]
  },
  {
   "cell_type": "code",
   "execution_count": 180,
   "id": "0cad6bba-65d4-4022-b03e-02a3b135e2fc",
   "metadata": {},
   "outputs": [],
   "source": [
    "nhfit_0.05 <- ses(train, h=length(test), alpha=0.05)"
   ]
  },
  {
   "cell_type": "code",
   "execution_count": 181,
   "id": "a340cb16-037e-4ac0-acf6-bea1da0d0a56",
   "metadata": {},
   "outputs": [
    {
     "data": {
      "image/png": "[encoded data removed]",
      "text/plain": [
       "Plot with title \"Forecasts from Simple exponential smoothing\""
      ]
     },
     "metadata": {},
     "output_type": "display_data"
    }
   ],
   "source": [
    "plot(nhfit_0.05, lw=2, col='blue')\n",
    "\n",
    "x <- as.vector(time(train))\n",
    "y <- nhfit_0.05$fitted\n",
    "lines(x, y, col='grey', lw=4)\n",
    "\n",
    "x <- as.vector(time(test))\n",
    "y <- test\n",
    "lines(x, y, col='purple', lwd=3)\n",
    "\n",
    "abline(v=seq(1994, 2023, length.out=7), lwd=0.5)\n",
    "abline(h=48:55, lwd=0.5)"
   ]
  },
  {
   "cell_type": "code",
   "execution_count": 182,
   "id": "07c29de6-2120-4d4b-8332-79701c34b9fd",
   "metadata": {},
   "outputs": [
    {
     "data": {
      "text/plain": [
       "         Point Forecast    Lo 80    Hi 80    Lo 95    Hi 95\n",
       "Oct 2023       2127.836 1749.937 2505.734 1549.890 2705.782\n",
       "Nov 2023       2127.836 1749.465 2506.207 1549.168 2706.504\n",
       "Dec 2023       2127.836 1748.994 2506.678 1548.447 2707.225\n",
       "Jan 2024       2127.836 1748.523 2507.149 1547.727 2707.945\n",
       "Feb 2024       2127.836 1748.053 2507.619 1547.007 2708.664\n",
       "Mar 2024       2127.836 1747.583 2508.089 1546.289 2709.383"
      ]
     },
     "metadata": {},
     "output_type": "display_data"
    }
   ],
   "source": [
    "nhfit_0.05"
   ]
  },
  {
   "cell_type": "code",
   "execution_count": 183,
   "id": "208d138a-5024-4f61-bd4d-f751bdfa86c4",
   "metadata": {},
   "outputs": [
    {
     "data": {
      "text/html": [
       "<table>\n",
       "<thead><tr><th></th><th scope=col>ME</th><th scope=col>RMSE</th><th scope=col>MAE</th><th scope=col>MPE</th><th scope=col>MAPE</th><th scope=col>MASE</th><th scope=col>ACF1</th><th scope=col>Theil's U</th></tr></thead>\n",
       "<tbody>\n",
       "\t<tr><th scope=row>Training set</th><td> 40.289</td><td>293.997</td><td>228.553</td><td>-0.476 </td><td>13.206 </td><td>0.785  </td><td>0.942  </td><td>   NA  </td></tr>\n",
       "\t<tr><th scope=row>Test set</th><td>239.067</td><td>248.954</td><td>239.067</td><td>10.024 </td><td>10.024 </td><td>0.821  </td><td>0.372  </td><td>5.078  </td></tr>\n",
       "</tbody>\n",
       "</table>\n"
      ],
      "text/latex": [
       "\\begin{tabular}{r|llllllll}\n",
       "  & ME & RMSE & MAE & MPE & MAPE & MASE & ACF1 & Theil's U\\\\\n",
       "\\hline\n",
       "\tTraining set &  40.289 & 293.997 & 228.553 & -0.476  & 13.206  & 0.785   & 0.942   &    NA  \\\\\n",
       "\tTest set & 239.067 & 248.954 & 239.067 & 10.024  & 10.024  & 0.821   & 0.372   & 5.078  \\\\\n",
       "\\end{tabular}\n"
      ],
      "text/markdown": [
       "\n",
       "| <!--/--> | ME | RMSE | MAE | MPE | MAPE | MASE | ACF1 | Theil's U |\n",
       "|---|---|---|---|---|---|---|---|---|\n",
       "| Training set |  40.289 | 293.997 | 228.553 | -0.476  | 13.206  | 0.785   | 0.942   |    NA   |\n",
       "| Test set | 239.067 | 248.954 | 239.067 | 10.024  | 10.024  | 0.821   | 0.372   | 5.078   |\n",
       "\n"
      ],
      "text/plain": [
       "             ME      RMSE    MAE     MPE    MAPE   MASE  ACF1  Theil's U\n",
       "Training set  40.289 293.997 228.553 -0.476 13.206 0.785 0.942    NA    \n",
       "Test set     239.067 248.954 239.067 10.024 10.024 0.821 0.372 5.078    "
      ]
     },
     "metadata": {},
     "output_type": "display_data"
    }
   ],
   "source": [
    "round(accuracy(nhfit_0.05, test),3)"
   ]
  },
  {
   "cell_type": "code",
   "execution_count": 184,
   "id": "4d4c6186-fd68-449b-be11-4b347c16314e",
   "metadata": {},
   "outputs": [],
   "source": [
    "nhfit_0.4 <- ses(train, h=length(test), alpha=0.4)"
   ]
  },
  {
   "cell_type": "code",
   "execution_count": 185,
   "id": "f39a04b6-e50c-4463-9d26-44c5fc7b9253",
   "metadata": {},
   "outputs": [
    {
     "data": {
      "image/png": "[encoded data removed]",
      "text/plain": [
       "Plot with title \"Forecasts from Simple exponential smoothing\""
      ]
     },
     "metadata": {},
     "output_type": "display_data"
    }
   ],
   "source": [
    "plot(nhfit_0.4, lw=2, col='yellow')\n",
    "\n",
    "x <- as.vector(time(train))\n",
    "y <- nhfit_0.4$fitted\n",
    "lines(x, y, col='black', lw=4)\n",
    "\n",
    "x <- as.vector(time(test))\n",
    "y <- test\n",
    "lines(x, y, col='green', lwd=3)\n",
    "\n",
    "abline(v=seq(1994, 2024, length.out=7), lwd=0.5)\n",
    "abline(h=48:55, lwd=0.5)"
   ]
  },
  {
   "cell_type": "code",
   "execution_count": 186,
   "id": "e847f6c0-c665-4a6a-a46a-563789f3207c",
   "metadata": {},
   "outputs": [
    {
     "data": {
      "text/plain": [
       "         Point Forecast    Lo 80    Hi 80    Lo 95    Hi 95\n",
       "Oct 2023       2231.988 2067.102 2396.874 1979.817 2484.159\n",
       "Nov 2023       2231.988 2054.401 2409.575 1960.392 2503.584\n",
       "Dec 2023       2231.988 2042.549 2421.427 1942.266 2521.710\n",
       "Jan 2024       2231.988 2031.396 2432.580 1925.209 2538.767\n",
       "Feb 2024       2231.988 2020.831 2443.145 1909.052 2554.924\n",
       "Mar 2024       2231.988 2010.771 2453.205 1893.665 2570.311"
      ]
     },
     "metadata": {},
     "output_type": "display_data"
    }
   ],
   "source": [
    "nhfit_0.4"
   ]
  },
  {
   "cell_type": "code",
   "execution_count": 187,
   "id": "0684dd71-63db-400b-862b-fe89a78189fc",
   "metadata": {},
   "outputs": [
    {
     "data": {
      "text/html": [
       "<table>\n",
       "<thead><tr><th></th><th scope=col>ME</th><th scope=col>RMSE</th><th scope=col>MAE</th><th scope=col>MPE</th><th scope=col>MAPE</th><th scope=col>MASE</th><th scope=col>ACF1</th><th scope=col>Theil's U</th></tr></thead>\n",
       "<tbody>\n",
       "\t<tr><th scope=row>Training set</th><td>  5.862</td><td>128.277</td><td> 97.915</td><td>-0.093 </td><td>5.578  </td><td>0.336  </td><td>0.647  </td><td>   NA  </td></tr>\n",
       "\t<tr><th scope=row>Test set</th><td>134.915</td><td>151.746</td><td>134.915</td><td> 5.620 </td><td>5.620  </td><td>0.464  </td><td>0.372  </td><td>3.152  </td></tr>\n",
       "</tbody>\n",
       "</table>\n"
      ],
      "text/latex": [
       "\\begin{tabular}{r|llllllll}\n",
       "  & ME & RMSE & MAE & MPE & MAPE & MASE & ACF1 & Theil's U\\\\\n",
       "\\hline\n",
       "\tTraining set &   5.862 & 128.277 &  97.915 & -0.093  & 5.578   & 0.336   & 0.647   &    NA  \\\\\n",
       "\tTest set & 134.915 & 151.746 & 134.915 &  5.620  & 5.620   & 0.464   & 0.372   & 3.152  \\\\\n",
       "\\end{tabular}\n"
      ],
      "text/markdown": [
       "\n",
       "| <!--/--> | ME | RMSE | MAE | MPE | MAPE | MASE | ACF1 | Theil's U |\n",
       "|---|---|---|---|---|---|---|---|---|\n",
       "| Training set |   5.862 | 128.277 |  97.915 | -0.093  | 5.578   | 0.336   | 0.647   |    NA   |\n",
       "| Test set | 134.915 | 151.746 | 134.915 |  5.620  | 5.620   | 0.464   | 0.372   | 3.152   |\n",
       "\n"
      ],
      "text/plain": [
       "             ME      RMSE    MAE     MPE    MAPE  MASE  ACF1  Theil's U\n",
       "Training set   5.862 128.277  97.915 -0.093 5.578 0.336 0.647    NA    \n",
       "Test set     134.915 151.746 134.915  5.620 5.620 0.464 0.372 3.152    "
      ]
     },
     "metadata": {},
     "output_type": "display_data"
    }
   ],
   "source": [
    "round(accuracy(nhfit_0.4, test),3)"
   ]
  },
  {
   "cell_type": "code",
   "execution_count": 188,
   "id": "80b23a26-a561-4d84-ae85-908de0317463",
   "metadata": {},
   "outputs": [],
   "source": [
    "nhfit_0.7 <- ses(train, h=length(test), alpha=0.7)"
   ]
  },
  {
   "cell_type": "code",
   "execution_count": 189,
   "id": "8d675b7b-f12b-45aa-8b70-fd1aa4c62478",
   "metadata": {},
   "outputs": [
    {
     "data": {
      "image/png": "[encoded data removed]",
      "text/plain": [
       "Plot with title \"Forecasts from Simple exponential smoothing\""
      ]
     },
     "metadata": {},
     "output_type": "display_data"
    }
   ],
   "source": [
    "plot(nhfit_0.7, lw=2, col='orange')\n",
    "\n",
    "x <- as.vector(time(train))\n",
    "y <- nhfit_0.7$fitted\n",
    "lines(x, y, col='pink', lw=4)\n",
    "\n",
    "x <- as.vector(time(test))\n",
    "y <- test\n",
    "lines(x, y, col='Brown', lwd=3)\n",
    "\n",
    "abline(v=seq(1994, 2024, length.out=7), lwd=0.5)\n",
    "abline(h=48:55, lwd=0.5)"
   ]
  },
  {
   "cell_type": "code",
   "execution_count": 190,
   "id": "06bf52a0-60fe-4df2-b607-d722ca90cba4",
   "metadata": {},
   "outputs": [
    {
     "data": {
      "text/plain": [
       "         Point Forecast    Lo 80    Hi 80    Lo 95    Hi 95\n",
       "Oct 2023       2239.963 2103.714 2376.212 2031.588 2448.337\n",
       "Nov 2023       2239.963 2073.650 2406.276 1985.609 2494.316\n",
       "Dec 2023       2239.963 2048.243 2431.682 1946.753 2533.172\n",
       "Jan 2024       2239.963 2025.831 2454.095 1912.476 2567.449\n",
       "Feb 2024       2239.963 2005.551 2474.374 1881.461 2598.464\n",
       "Mar 2024       2239.963 1986.891 2493.034 1852.924 2627.002"
      ]
     },
     "metadata": {},
     "output_type": "display_data"
    }
   ],
   "source": [
    "nhfit_0.7"
   ]
  },
  {
   "cell_type": "code",
   "execution_count": 191,
   "id": "94857b15-ab41-4da9-a81f-3a75e598f1aa",
   "metadata": {},
   "outputs": [
    {
     "data": {
      "text/html": [
       "<table>\n",
       "<thead><tr><th></th><th scope=col>ME</th><th scope=col>RMSE</th><th scope=col>MAE</th><th scope=col>MPE</th><th scope=col>MAPE</th><th scope=col>MASE</th><th scope=col>ACF1</th><th scope=col>Theil's U</th></tr></thead>\n",
       "<tbody>\n",
       "\t<tr><th scope=row>Training set</th><td>  3.387</td><td>105.999</td><td> 80.339</td><td>-0.042 </td><td>4.550  </td><td>0.276  </td><td>0.393  </td><td>  NA   </td></tr>\n",
       "\t<tr><th scope=row>Test set</th><td>126.941</td><td>144.702</td><td>126.941</td><td> 5.283 </td><td>5.283  </td><td>0.436  </td><td>0.372  </td><td>3.01   </td></tr>\n",
       "</tbody>\n",
       "</table>\n"
      ],
      "text/latex": [
       "\\begin{tabular}{r|llllllll}\n",
       "  & ME & RMSE & MAE & MPE & MAPE & MASE & ACF1 & Theil's U\\\\\n",
       "\\hline\n",
       "\tTraining set &   3.387 & 105.999 &  80.339 & -0.042  & 4.550   & 0.276   & 0.393   &   NA   \\\\\n",
       "\tTest set & 126.941 & 144.702 & 126.941 &  5.283  & 5.283   & 0.436   & 0.372   & 3.01   \\\\\n",
       "\\end{tabular}\n"
      ],
      "text/markdown": [
       "\n",
       "| <!--/--> | ME | RMSE | MAE | MPE | MAPE | MASE | ACF1 | Theil's U |\n",
       "|---|---|---|---|---|---|---|---|---|\n",
       "| Training set |   3.387 | 105.999 |  80.339 | -0.042  | 4.550   | 0.276   | 0.393   |   NA    |\n",
       "| Test set | 126.941 | 144.702 | 126.941 |  5.283  | 5.283   | 0.436   | 0.372   | 3.01    |\n",
       "\n"
      ],
      "text/plain": [
       "             ME      RMSE    MAE     MPE    MAPE  MASE  ACF1  Theil's U\n",
       "Training set   3.387 105.999  80.339 -0.042 4.550 0.276 0.393   NA     \n",
       "Test set     126.941 144.702 126.941  5.283 5.283 0.436 0.372 3.01     "
      ]
     },
     "metadata": {},
     "output_type": "display_data"
    }
   ],
   "source": [
    "round(accuracy(nhfit_0.7, test),3)"
   ]
  },
  {
   "cell_type": "markdown",
   "id": "bea3df05-89f8-4d37-82b9-152f1e29c6de",
   "metadata": {},
   "source": [
    "## Naive or Random Walk Forecast"
   ]
  },
  {
   "cell_type": "code",
   "execution_count": 192,
   "id": "6ecd8c49-7086-4b28-841b-90a5173e4816",
   "metadata": {},
   "outputs": [],
   "source": [
    "cocoa_ts.rw <- rwf(train, h=length(test))"
   ]
  },
  {
   "cell_type": "code",
   "execution_count": 193,
   "id": "d1156d26-d89c-4249-b9a9-3d6b06e17269",
   "metadata": {},
   "outputs": [],
   "source": [
    "xlim=c(time(train)[1], time(test)[length(test)])\n",
    "ylim=c(1000, 6500)"
   ]
  },
  {
   "cell_type": "code",
   "execution_count": 194,
   "id": "97b8a329-7012-46fe-8db9-500ef4a8b3e1",
   "metadata": {},
   "outputs": [
    {
     "data": {
      "image/png": "[encoded data removed]",
      "text/plain": [
       "Plot with title \"Forecasts from Random walk\""
      ]
     },
     "metadata": {},
     "output_type": "display_data"
    }
   ],
   "source": [
    "plot(cocoa_ts.rw, col='pink', lwd=3, xlim=xlim, ylim=ylim)\n",
    "\n",
    "x <- as.vector(time(test))\n",
    "y <- test\n",
    "lines(x, y, col='brown', lwd=3)\n",
    "\n",
    "abline(h=seq(1000,6500,100), lw=0.3)\n",
    "abline(v=seq(1994+100/260, 1998+165/260, 5/260), lw=0.3)"
   ]
  },
  {
   "cell_type": "code",
   "execution_count": 195,
   "id": "7edf4a87-24a3-488b-9dc5-cffe92eb7f91",
   "metadata": {},
   "outputs": [
    {
     "data": {
      "text/html": [
       "<table>\n",
       "<thead><tr><th></th><th scope=col>ME</th><th scope=col>RMSE</th><th scope=col>MAE</th><th scope=col>MPE</th><th scope=col>MAPE</th><th scope=col>MASE</th><th scope=col>ACF1</th><th scope=col>Theil's U</th></tr></thead>\n",
       "<tbody>\n",
       "\t<tr><th scope=row>Training set</th><td>  2.376</td><td> 98.086</td><td> 73.018</td><td>-0.020 </td><td>4.145  </td><td>0.251  </td><td>0.141  </td><td>   NA  </td></tr>\n",
       "\t<tr><th scope=row>Test set</th><td>122.943</td><td>141.208</td><td>122.943</td><td> 5.114 </td><td>5.114  </td><td>0.422  </td><td>0.372  </td><td>2.939  </td></tr>\n",
       "</tbody>\n",
       "</table>\n"
      ],
      "text/latex": [
       "\\begin{tabular}{r|llllllll}\n",
       "  & ME & RMSE & MAE & MPE & MAPE & MASE & ACF1 & Theil's U\\\\\n",
       "\\hline\n",
       "\tTraining set &   2.376 &  98.086 &  73.018 & -0.020  & 4.145   & 0.251   & 0.141   &    NA  \\\\\n",
       "\tTest set & 122.943 & 141.208 & 122.943 &  5.114  & 5.114   & 0.422   & 0.372   & 2.939  \\\\\n",
       "\\end{tabular}\n"
      ],
      "text/markdown": [
       "\n",
       "| <!--/--> | ME | RMSE | MAE | MPE | MAPE | MASE | ACF1 | Theil's U |\n",
       "|---|---|---|---|---|---|---|---|---|\n",
       "| Training set |   2.376 |  98.086 |  73.018 | -0.020  | 4.145   | 0.251   | 0.141   |    NA   |\n",
       "| Test set | 122.943 | 141.208 | 122.943 |  5.114  | 5.114   | 0.422   | 0.372   | 2.939   |\n",
       "\n"
      ],
      "text/plain": [
       "             ME      RMSE    MAE     MPE    MAPE  MASE  ACF1  Theil's U\n",
       "Training set   2.376  98.086  73.018 -0.020 4.145 0.251 0.141    NA    \n",
       "Test set     122.943 141.208 122.943  5.114 5.114 0.422 0.372 2.939    "
      ]
     },
     "metadata": {},
     "output_type": "display_data"
    }
   ],
   "source": [
    "round(accuracy(cocoa_ts.rw, test),3)"
   ]
  },
  {
   "cell_type": "code",
   "execution_count": null,
   "id": "00c13c46-554c-41be-96b5-79dd462530b8",
   "metadata": {},
   "outputs": [],
   "source": []
  },
  {
   "cell_type": "markdown",
   "id": "9165f48d-d16b-42f1-8ac1-59479a12abe1",
   "metadata": {},
   "source": [
    "### ETS ANN model"
   ]
  },
  {
   "cell_type": "code",
   "execution_count": 196,
   "id": "6df33d37-2f77-41ff-a0d7-d8129ae875d5",
   "metadata": {},
   "outputs": [],
   "source": [
    "#Additive error, No trend, No seasonality\n",
    "nhfit2 <- ets(train, model='ANN')"
   ]
  },
  {
   "cell_type": "code",
   "execution_count": 197,
   "id": "4f0a1998-778d-4111-af7e-ea2f736731c0",
   "metadata": {},
   "outputs": [],
   "source": [
    "fc2 <- forecast(nhfit2, h=length(test))"
   ]
  },
  {
   "cell_type": "code",
   "execution_count": 198,
   "id": "1f22073e-8cfe-4305-bb98-e6e4f54a6e2e",
   "metadata": {},
   "outputs": [
    {
     "data": {
      "image/png": "[encoded data removed]",
      "text/plain": [
       "Plot with title \"Forecasts from ETS(A,N,N)\""
      ]
     },
     "metadata": {},
     "output_type": "display_data"
    }
   ],
   "source": [
    "plot(fc2, lw=2, col='blue')\n",
    "\n",
    "x <- as.vector(time(train))\n",
    "y <- nhfit2$fitted\n",
    "lines(x, y, col='black', lw=4)\n",
    "\n",
    "x <- as.vector(time(test))\n",
    "y <- test\n",
    "lines(x, y, col='red', lwd=3)\n",
    "\n",
    "abline(v=seq(1910, 1970, length.out=7), lwd=0.5)\n",
    "abline(h=48:55, lwd=0.5)"
   ]
  },
  {
   "cell_type": "code",
   "execution_count": 199,
   "id": "f258e2ae-37c5-48b2-8046-96d15f4662bc",
   "metadata": {},
   "outputs": [
    {
     "data": {
      "image/png": "[encoded data removed]",
      "text/plain": [
       "plot without title"
      ]
     },
     "metadata": {},
     "output_type": "display_data"
    }
   ],
   "source": [
    "plot(nhfit2)"
   ]
  },
  {
   "cell_type": "code",
   "execution_count": 200,
   "id": "1c873bff-b1db-4575-ad2a-3d49fb2d83f1",
   "metadata": {},
   "outputs": [
    {
     "data": {
      "text/html": [
       "<table>\n",
       "<thead><tr><th></th><th scope=col>ME</th><th scope=col>RMSE</th><th scope=col>MAE</th><th scope=col>MPE</th><th scope=col>MAPE</th><th scope=col>MASE</th><th scope=col>ACF1</th><th scope=col>Theil's U</th></tr></thead>\n",
       "<tbody>\n",
       "\t<tr><th scope=row>Training set</th><td>  2.368</td><td> 97.942</td><td> 72.803</td><td>-0.020 </td><td>4.133  </td><td>0.250  </td><td>0.141  </td><td>   NA  </td></tr>\n",
       "\t<tr><th scope=row>Test set</th><td>122.944</td><td>141.208</td><td>122.944</td><td> 5.114 </td><td>5.114  </td><td>0.422  </td><td>0.372  </td><td>2.939  </td></tr>\n",
       "</tbody>\n",
       "</table>\n"
      ],
      "text/latex": [
       "\\begin{tabular}{r|llllllll}\n",
       "  & ME & RMSE & MAE & MPE & MAPE & MASE & ACF1 & Theil's U\\\\\n",
       "\\hline\n",
       "\tTraining set &   2.368 &  97.942 &  72.803 & -0.020  & 4.133   & 0.250   & 0.141   &    NA  \\\\\n",
       "\tTest set & 122.944 & 141.208 & 122.944 &  5.114  & 5.114   & 0.422   & 0.372   & 2.939  \\\\\n",
       "\\end{tabular}\n"
      ],
      "text/markdown": [
       "\n",
       "| <!--/--> | ME | RMSE | MAE | MPE | MAPE | MASE | ACF1 | Theil's U |\n",
       "|---|---|---|---|---|---|---|---|---|\n",
       "| Training set |   2.368 |  97.942 |  72.803 | -0.020  | 4.133   | 0.250   | 0.141   |    NA   |\n",
       "| Test set | 122.944 | 141.208 | 122.944 |  5.114  | 5.114   | 0.422   | 0.372   | 2.939   |\n",
       "\n"
      ],
      "text/plain": [
       "             ME      RMSE    MAE     MPE    MAPE  MASE  ACF1  Theil's U\n",
       "Training set   2.368  97.942  72.803 -0.020 4.133 0.250 0.141    NA    \n",
       "Test set     122.944 141.208 122.944  5.114 5.114 0.422 0.372 2.939    "
      ]
     },
     "metadata": {},
     "output_type": "display_data"
    }
   ],
   "source": [
    "round(accuracy(fc2, test),3)"
   ]
  },
  {
   "cell_type": "markdown",
   "id": "40fe8da7-f1a2-4cd1-b8aa-c562b788fb0a",
   "metadata": {},
   "source": [
    "### ARIMA model"
   ]
  },
  {
   "cell_type": "code",
   "execution_count": 201,
   "id": "1e2135cc-f312-4c10-ac9e-e4960f733962",
   "metadata": {},
   "outputs": [],
   "source": [
    "train_data <- window(cocoa_ts, end = c(2023, 9))\n",
    "test_data <- window(cocoa_ts, start = c(2023, 10), end = c(2024, 3))"
   ]
  },
  {
   "cell_type": "code",
   "execution_count": 202,
   "id": "e9ca4efa-f339-4cfe-b802-b44a2ce31f39",
   "metadata": {},
   "outputs": [
    {
     "name": "stdout",
     "output_type": "stream",
     "text": [
      "Series: train_data \n",
      "ARIMA(0,1,1) \n",
      "\n",
      "Coefficients:\n",
      "         ma1\n",
      "      0.1682\n",
      "s.e.  0.0566\n",
      "\n",
      "sigma^2 estimated as 9416:  log likelihood=-2007.52\n",
      "AIC=4019.03   AICc=4019.07   BIC=4026.66\n",
      "\n",
      "Training set error measures:\n",
      "                   ME     RMSE      MAE          MPE     MAPE      MASE\n",
      "Training set 2.030469 96.74819 71.38616 -0.009755636 4.058061 0.2452746\n",
      "                    ACF1\n",
      "Training set -0.01088461\n"
     ]
    }
   ],
   "source": [
    "# Fit ARIMA model on training data\n",
    "fitted_model <- auto.arima(train_data)\n",
    "\n",
    "# Display the fitted model summary\n",
    "summary(fitted_model)"
   ]
  },
  {
   "cell_type": "code",
   "execution_count": 203,
   "id": "a6d1ac90-f751-4051-b763-f75d84859192",
   "metadata": {},
   "outputs": [
    {
     "data": {
      "image/png": "[encoded data removed]",
      "text/plain": [
       "Plot with title \"Forecasts from ARIMA(0,1,1)\""
      ]
     },
     "metadata": {},
     "output_type": "display_data"
    }
   ],
   "source": [
    "forecasts <- forecast(fitted_model, h=6)\n",
    "\n",
    "# Plot the forecasts\n",
    "plot(forecasts)\n",
    "lines(test_data, col = \"yellow\", lty = 2)  # Add actual data to the plot for comparison\n",
    "legend(\"bottomleft\", legend = c(\"Forecasts\", \"Actual Data\"), col = c(\"blue\", \"red\"), lty = 1:2)"
   ]
  },
  {
   "cell_type": "code",
   "execution_count": 204,
   "id": "5db8e027-f86d-4ea7-bede-acc703c1af82",
   "metadata": {},
   "outputs": [
    {
     "name": "stdout",
     "output_type": "stream",
     "text": [
      "                     ME      RMSE       MAE          MPE     MAPE      MASE\n",
      "Training set   2.030469  96.74819  71.38616 -0.009755636 4.058061 0.2452746\n",
      "Test set     123.762137 141.92179 123.76214  5.148626269 5.148626 0.4252324\n",
      "                    ACF1 Theil's U\n",
      "Training set -0.01088461        NA\n",
      "Test set      0.37200592  2.953471\n"
     ]
    }
   ],
   "source": [
    "accuracy_measures <- accuracy(forecasts, test_data)\n",
    "print(accuracy_measures)"
   ]
  },
  {
   "cell_type": "markdown",
   "id": "17317d9c-01e5-41fa-8757-1637c5d2a849",
   "metadata": {},
   "source": [
    "### SARIMA MODEL"
   ]
  },
  {
   "cell_type": "code",
   "execution_count": 205,
   "id": "c09e0364-8164-47f9-aa82-311637868362",
   "metadata": {},
   "outputs": [
    {
     "name": "stdout",
     "output_type": "stream",
     "text": [
      "\n",
      " ARIMA(2,1,2)(1,0,1)[12] with drift         : 4027.873\n",
      " ARIMA(0,1,0)            with drift         : 4027.047\n",
      " ARIMA(1,1,0)(1,0,0)[12] with drift         : 4024.466\n",
      " ARIMA(0,1,1)(0,0,1)[12] with drift         : 4023.004\n",
      " ARIMA(0,1,0)                               : 4025.219\n",
      " ARIMA(0,1,1)            with drift         : 4020.956\n",
      " ARIMA(0,1,1)(1,0,0)[12] with drift         : 4023.004\n",
      " ARIMA(0,1,1)(1,0,1)[12] with drift         : 4025.061\n",
      " ARIMA(1,1,1)            with drift         : 4022.38\n",
      " ARIMA(0,1,2)            with drift         : 4021.664\n",
      " ARIMA(1,1,0)            with drift         : 4022.417\n",
      " ARIMA(1,1,2)            with drift         : 4022.934\n",
      " ARIMA(0,1,1)                               : 4019.067\n",
      " ARIMA(0,1,1)(1,0,0)[12]                    : 4021.103\n",
      " ARIMA(0,1,1)(0,0,1)[12]                    : 4021.103\n",
      " ARIMA(0,1,1)(1,0,1)[12]                    : 4023.148\n",
      " ARIMA(1,1,1)                               : 4020.484\n",
      " ARIMA(0,1,2)                               : 4019.787\n",
      " ARIMA(1,1,0)                               : 4020.529\n",
      " ARIMA(1,1,2)                               : 4021.062\n",
      "\n",
      " Best model: ARIMA(0,1,1)                               \n",
      "\n",
      "Series: train_data \n",
      "ARIMA(0,1,1) \n",
      "\n",
      "Coefficients:\n",
      "         ma1\n",
      "      0.1682\n",
      "s.e.  0.0566\n",
      "\n",
      "sigma^2 estimated as 9416:  log likelihood=-2007.52\n",
      "AIC=4019.03   AICc=4019.07   BIC=4026.66\n",
      "\n",
      "Training set error measures:\n",
      "                   ME     RMSE      MAE          MPE     MAPE      MASE\n",
      "Training set 2.030469 96.74819 71.38616 -0.009755636 4.058061 0.2452746\n",
      "                    ACF1\n",
      "Training set -0.01088461\n"
     ]
    }
   ],
   "source": [
    "fitted_model <- auto.arima(train_data, seasonal = TRUE, stepwise = TRUE, approximation = FALSE, trace = TRUE)\n",
    "\n",
    "# Display the fitted model summary\n",
    "summary(fitted_model)"
   ]
  },
  {
   "cell_type": "code",
   "execution_count": 206,
   "id": "d6572e85-d93c-4327-854f-fb83ee89eb13",
   "metadata": {},
   "outputs": [
    {
     "data": {
      "image/png": "[encoded data removed]",
      "text/plain": [
       "Plot with title \"Forecasts from ARIMA(0,1,1)\""
      ]
     },
     "metadata": {},
     "output_type": "display_data"
    }
   ],
   "source": [
    "# Forecast the next 6 months\n",
    "forecasts <- forecast(fitted_model, h=6)\n",
    "\n",
    "# Plot the forecasts along with the actual data\n",
    "plot(forecasts)\n",
    "lines(test_data, col = \"red\", lty = 2)  # Add actual data to the plot for comparison\n",
    "legend(\"bottomleft\", legend = c(\"Forecasts\", \"Actual Data\"), col = c(\"blue\", \"red\"), lty = 1:2)\n"
   ]
  },
  {
   "cell_type": "code",
   "execution_count": 207,
   "id": "f6c2d7d1-30f0-42f6-9d3f-4585429f20ef",
   "metadata": {},
   "outputs": [
    {
     "name": "stdout",
     "output_type": "stream",
     "text": [
      "                     ME      RMSE       MAE          MPE     MAPE      MASE\n",
      "Training set   2.030469  96.74819  71.38616 -0.009755636 4.058061 0.2452746\n",
      "Test set     123.762137 141.92179 123.76214  5.148626269 5.148626 0.4252324\n",
      "                    ACF1 Theil's U\n",
      "Training set -0.01088461        NA\n",
      "Test set      0.37200592  2.953471\n"
     ]
    }
   ],
   "source": [
    "accuracy_measures <- accuracy(forecasts, test_data)\n",
    "print(accuracy_measures)"
   ]
  },
  {
   "cell_type": "code",
   "execution_count": 208,
   "id": "e387f9aa-53ac-40ac-9893-4a6c6e0716d0",
   "metadata": {},
   "outputs": [
    {
     "name": "stdout",
     "output_type": "stream",
     "text": [
      "Series: train_data \n",
      "ARIMA(1,1,1)(1,1,1)[12] \n",
      "\n",
      "Coefficients:\n",
      "          ar1     ma1    sar1     sma1\n",
      "      -0.1573  0.3173  0.0064  -1.0000\n",
      "s.e.   0.2050  0.1922  0.0564   0.0469\n",
      "\n",
      "sigma^2 estimated as 9553:  log likelihood=-1956.3\n",
      "AIC=3922.61   AICc=3922.8   BIC=3941.5\n",
      "\n",
      "Training set error measures:\n",
      "                    ME    RMSE      MAE         MPE     MAPE      MASE\n",
      "Training set 0.9730342 95.2359 69.45453 -0.02085397 3.940571 0.2386377\n",
      "                    ACF1\n",
      "Training set -0.00516754\n"
     ]
    },
    {
     "data": {
      "image/png": "[encoded data removed]",
      "text/plain": [
       "Plot with title \"Forecasts from ARIMA(1,1,1)(1,1,1)[12]\""
      ]
     },
     "metadata": {},
     "output_type": "display_data"
    }
   ],
   "source": [
    "sarima_model <- Arima(train_data, order = c(1, 1, 1), seasonal = list(order = c(1, 1, 1), period = 12))\n",
    "\n",
    "# Summary of the model\n",
    "summary(sarima_model)\n",
    "\n",
    "# Forecasting the next 12 periods\n",
    "forecasts <- forecast(sarima_model, h=12)\n",
    "\n",
    "# Plotting the forecast\n",
    "plot(forecasts)"
   ]
  },
  {
   "cell_type": "code",
   "execution_count": 209,
   "id": "e9768522-9633-403f-9093-6dcbae35d1b3",
   "metadata": {},
   "outputs": [
    {
     "name": "stdout",
     "output_type": "stream",
     "text": [
      "         Point Forecast    Lo 80    Hi 80     Lo 95    Hi 95\n",
      "Oct 2023       2243.141 2118.783 2367.500 2052.9513 2433.331\n",
      "Nov 2023       2243.141 2051.904 2434.378 1950.6695 2535.613\n",
      "Dec 2023       2243.141 2002.979 2483.304 1875.8441 2610.438\n",
      "Jan 2024       2243.141 1962.455 2523.827 1813.8690 2672.413\n",
      "Feb 2024       2243.141 1927.086 2559.197 1759.7758 2726.507\n",
      "Mar 2024       2243.141 1895.294 2590.988 1711.1547 2775.128\n",
      "Apr 2024       2243.141 1866.174 2620.108 1666.6196 2819.663\n",
      "May 2024       2243.141 1839.148 2647.135 1625.2864 2860.996\n",
      "Jun 2024       2243.141 1813.819 2672.463 1586.5499 2899.732\n",
      "Jul 2024       2243.141 1789.904 2696.378 1549.9749 2936.308\n",
      "Aug 2024       2243.141 1767.189 2719.093 1515.2353 2971.047\n",
      "Sep 2024       2243.141 1745.510 2740.773 1482.0797 3004.203\n",
      "Oct 2024       2243.141 1724.736 2761.546 1450.3096 3035.973\n",
      "Nov 2024       2243.141 1704.764 2781.518 1419.7643 3066.518\n",
      "Dec 2024       2243.141 1685.506 2800.776 1390.3124 3095.970\n",
      "Jan 2025       2243.141 1666.892 2819.390 1361.8442 3124.438\n",
      "Feb 2025       2243.141 1648.860 2837.422 1334.2672 3152.015\n",
      "Mar 2025       2243.141 1631.360 2854.922 1307.5027 3178.780\n",
      "Apr 2025       2243.141 1614.347 2871.936 1281.4828 3204.800\n",
      "May 2025       2243.141 1597.781 2888.501 1256.1486 3230.134\n",
      "Jun 2025       2243.141 1581.631 2904.651 1231.4486 3254.834\n",
      "Jul 2025       2243.141 1565.866 2920.417 1207.3375 3278.945\n",
      "Aug 2025       2243.141 1550.459 2935.824 1183.7749 3302.507\n",
      "Sep 2025       2243.141 1535.387 2950.895 1160.7252 3325.557\n",
      "Oct 2025       2243.141 1520.630 2965.652 1138.1562 3348.126\n",
      "Nov 2025       2243.141 1506.169 2980.114 1116.0390 3370.243\n",
      "Dec 2025       2243.141 1491.985 2994.297 1094.3476 3391.935\n",
      "Jan 2026       2243.141 1478.065 3008.217 1073.0582 3413.224\n",
      "Feb 2026       2243.141 1464.393 3021.889 1052.1493 3434.133\n",
      "Mar 2026       2243.141 1450.958 3035.325 1031.6012 3454.681\n",
      "Apr 2026       2243.141 1437.746 3048.536 1011.3958 3474.887\n",
      "May 2026       2243.141 1424.748 3061.535  991.5166 3494.766\n",
      "Jun 2026       2243.141 1411.953 3074.330  971.9482 3514.334\n",
      "Jul 2026       2243.141 1399.352 3086.931  952.6765 3533.606\n",
      "Aug 2026       2243.141 1386.936 3099.346  933.6884 3552.594\n",
      "Sep 2026       2243.141 1374.698 3111.585  914.9717 3571.311\n",
      "Oct 2026       2243.141 1362.630 3123.653  896.5152 3589.767\n",
      "Nov 2026       2243.141 1350.725 3135.558  878.3082 3607.974\n",
      "Dec 2026       2243.141 1338.977 3147.306  860.3409 3625.941\n",
      "Jan 2027       2243.141 1327.379 3158.903  842.6041 3643.678\n",
      "Feb 2027       2243.141 1315.927 3170.356  825.0891 3661.193\n",
      "Mar 2027       2243.141 1304.614 3181.668  807.7879 3678.495\n",
      "Apr 2027       2243.141 1293.436 3192.846  790.6927 3695.590\n",
      "May 2027       2243.141 1282.388 3203.894  773.7964 3712.486\n",
      "Jun 2027       2243.141 1271.466 3214.816  757.0922 3729.190\n",
      "Jul 2027       2243.141 1260.665 3225.617  740.5737 3745.709\n",
      "Aug 2027       2243.141 1249.982 3236.301  724.2348 3762.048\n",
      "Sep 2027       2243.141 1239.412 3246.870  708.0699 3778.213\n",
      "Oct 2027       2243.141 1228.952 3257.330  692.0733 3794.209\n",
      "Nov 2027       2243.141 1218.600 3267.683  676.2401 3810.042\n"
     ]
    },
    {
     "data": {
      "image/png": "[encoded data removed]",
      "text/plain": [
       "Plot with title \"Forecasts from ARIMA(0,1,1)\""
      ]
     },
     "metadata": {},
     "output_type": "display_data"
    }
   ],
   "source": [
    "arima_model <- auto.arima(train_data)\n",
    "\n",
    "# Forecast using the fitted model\n",
    "arima_forecast <- forecast(arima_model, h = 50)  # Change 'h' for your desired forecast length\n",
    "\n",
    "# Print the forecast\n",
    "print(arima_forecast)\n",
    "\n",
    "# Plot the forecast\n",
    "plot(arima_forecast)\n",
    "lines(test_data, col = 'green')"
   ]
  },
  {
   "cell_type": "code",
   "execution_count": 210,
   "id": "f5c049e0-6b4e-4016-9011-5bc2ae7f8819",
   "metadata": {},
   "outputs": [
    {
     "data": {
      "text/html": [
       "<table>\n",
       "<thead><tr><th></th><th scope=col>ME</th><th scope=col>RMSE</th><th scope=col>MAE</th><th scope=col>MPE</th><th scope=col>MAPE</th><th scope=col>MASE</th><th scope=col>ACF1</th><th scope=col>Theil's U</th></tr></thead>\n",
       "<tbody>\n",
       "\t<tr><th scope=row>Training set</th><td>  2.030469  </td><td> 96.74819   </td><td> 71.38616   </td><td>-0.009755636</td><td>4.058061    </td><td>0.2452746   </td><td>-0.01088461 </td><td>      NA    </td></tr>\n",
       "\t<tr><th scope=row>Test set</th><td>123.762137  </td><td>141.92179   </td><td>123.76214   </td><td> 5.148626269</td><td>5.148626    </td><td>0.4252324   </td><td> 0.37200592 </td><td>2.953471    </td></tr>\n",
       "</tbody>\n",
       "</table>\n"
      ],
      "text/latex": [
       "\\begin{tabular}{r|llllllll}\n",
       "  & ME & RMSE & MAE & MPE & MAPE & MASE & ACF1 & Theil's U\\\\\n",
       "\\hline\n",
       "\tTraining set &   2.030469   &  96.74819    &  71.38616    & -0.009755636 & 4.058061     & 0.2452746    & -0.01088461  &       NA    \\\\\n",
       "\tTest set & 123.762137   & 141.92179    & 123.76214    &  5.148626269 & 5.148626     & 0.4252324    &  0.37200592  & 2.953471    \\\\\n",
       "\\end{tabular}\n"
      ],
      "text/markdown": [
       "\n",
       "| <!--/--> | ME | RMSE | MAE | MPE | MAPE | MASE | ACF1 | Theil's U |\n",
       "|---|---|---|---|---|---|---|---|---|\n",
       "| Training set |   2.030469   |  96.74819    |  71.38616    | -0.009755636 | 4.058061     | 0.2452746    | -0.01088461  |       NA     |\n",
       "| Test set | 123.762137   | 141.92179    | 123.76214    |  5.148626269 | 5.148626     | 0.4252324    |  0.37200592  | 2.953471     |\n",
       "\n"
      ],
      "text/plain": [
       "             ME         RMSE      MAE       MPE          MAPE     MASE     \n",
       "Training set   2.030469  96.74819  71.38616 -0.009755636 4.058061 0.2452746\n",
       "Test set     123.762137 141.92179 123.76214  5.148626269 5.148626 0.4252324\n",
       "             ACF1        Theil's U\n",
       "Training set -0.01088461       NA \n",
       "Test set      0.37200592 2.953471 "
      ]
     },
     "metadata": {},
     "output_type": "display_data"
    }
   ],
   "source": [
    "accuracy(arima_forecast, test_data)"
   ]
  },
  {
   "cell_type": "code",
   "execution_count": 211,
   "id": "f833337d-ebed-4145-b54c-9f961bedd2e7",
   "metadata": {},
   "outputs": [
    {
     "name": "stdout",
     "output_type": "stream",
     "text": [
      "\n",
      "Forecast method: ARIMA(0,1,1)\n",
      "\n",
      "Model Information:\n",
      "Series: train_data \n",
      "ARIMA(0,1,1) \n",
      "\n",
      "Coefficients:\n",
      "         ma1\n",
      "      0.1682\n",
      "s.e.  0.0566\n",
      "\n",
      "sigma^2 estimated as 9416:  log likelihood=-2007.52\n",
      "AIC=4019.03   AICc=4019.07   BIC=4026.66\n",
      "\n",
      "Error measures:\n",
      "                   ME     RMSE      MAE          MPE     MAPE      MASE\n",
      "Training set 2.030469 96.74819 71.38616 -0.009755636 4.058061 0.2452746\n",
      "                    ACF1\n",
      "Training set -0.01088461\n",
      "\n",
      "Forecasts:\n",
      "         Point Forecast    Lo 80    Hi 80     Lo 95    Hi 95\n",
      "Oct 2023       2243.141 2118.783 2367.500 2052.9513 2433.331\n",
      "Nov 2023       2243.141 2051.904 2434.378 1950.6695 2535.613\n",
      "Dec 2023       2243.141 2002.979 2483.304 1875.8441 2610.438\n",
      "Jan 2024       2243.141 1962.455 2523.827 1813.8690 2672.413\n",
      "Feb 2024       2243.141 1927.086 2559.197 1759.7758 2726.507\n",
      "Mar 2024       2243.141 1895.294 2590.988 1711.1547 2775.128\n",
      "Apr 2024       2243.141 1866.174 2620.108 1666.6196 2819.663\n",
      "May 2024       2243.141 1839.148 2647.135 1625.2864 2860.996\n",
      "Jun 2024       2243.141 1813.819 2672.463 1586.5499 2899.732\n",
      "Jul 2024       2243.141 1789.904 2696.378 1549.9749 2936.308\n",
      "Aug 2024       2243.141 1767.189 2719.093 1515.2353 2971.047\n",
      "Sep 2024       2243.141 1745.510 2740.773 1482.0797 3004.203\n",
      "Oct 2024       2243.141 1724.736 2761.546 1450.3096 3035.973\n",
      "Nov 2024       2243.141 1704.764 2781.518 1419.7643 3066.518\n",
      "Dec 2024       2243.141 1685.506 2800.776 1390.3124 3095.970\n",
      "Jan 2025       2243.141 1666.892 2819.390 1361.8442 3124.438\n",
      "Feb 2025       2243.141 1648.860 2837.422 1334.2672 3152.015\n",
      "Mar 2025       2243.141 1631.360 2854.922 1307.5027 3178.780\n",
      "Apr 2025       2243.141 1614.347 2871.936 1281.4828 3204.800\n",
      "May 2025       2243.141 1597.781 2888.501 1256.1486 3230.134\n",
      "Jun 2025       2243.141 1581.631 2904.651 1231.4486 3254.834\n",
      "Jul 2025       2243.141 1565.866 2920.417 1207.3375 3278.945\n",
      "Aug 2025       2243.141 1550.459 2935.824 1183.7749 3302.507\n",
      "Sep 2025       2243.141 1535.387 2950.895 1160.7252 3325.557\n",
      "Oct 2025       2243.141 1520.630 2965.652 1138.1562 3348.126\n",
      "Nov 2025       2243.141 1506.169 2980.114 1116.0390 3370.243\n",
      "Dec 2025       2243.141 1491.985 2994.297 1094.3476 3391.935\n",
      "Jan 2026       2243.141 1478.065 3008.217 1073.0582 3413.224\n",
      "Feb 2026       2243.141 1464.393 3021.889 1052.1493 3434.133\n",
      "Mar 2026       2243.141 1450.958 3035.325 1031.6012 3454.681\n",
      "Apr 2026       2243.141 1437.746 3048.536 1011.3958 3474.887\n",
      "May 2026       2243.141 1424.748 3061.535  991.5166 3494.766\n",
      "Jun 2026       2243.141 1411.953 3074.330  971.9482 3514.334\n",
      "Jul 2026       2243.141 1399.352 3086.931  952.6765 3533.606\n",
      "Aug 2026       2243.141 1386.936 3099.346  933.6884 3552.594\n",
      "Sep 2026       2243.141 1374.698 3111.585  914.9717 3571.311\n",
      "Oct 2026       2243.141 1362.630 3123.653  896.5152 3589.767\n",
      "Nov 2026       2243.141 1350.725 3135.558  878.3082 3607.974\n",
      "Dec 2026       2243.141 1338.977 3147.306  860.3409 3625.941\n",
      "Jan 2027       2243.141 1327.379 3158.903  842.6041 3643.678\n",
      "Feb 2027       2243.141 1315.927 3170.356  825.0891 3661.193\n",
      "Mar 2027       2243.141 1304.614 3181.668  807.7879 3678.495\n",
      "Apr 2027       2243.141 1293.436 3192.846  790.6927 3695.590\n",
      "May 2027       2243.141 1282.388 3203.894  773.7964 3712.486\n",
      "Jun 2027       2243.141 1271.466 3214.816  757.0922 3729.190\n",
      "Jul 2027       2243.141 1260.665 3225.617  740.5737 3745.709\n",
      "Aug 2027       2243.141 1249.982 3236.301  724.2348 3762.048\n",
      "Sep 2027       2243.141 1239.412 3246.870  708.0699 3778.213\n",
      "Oct 2027       2243.141 1228.952 3257.330  692.0733 3794.209\n",
      "Nov 2027       2243.141 1218.600 3267.683  676.2401 3810.042\n"
     ]
    }
   ],
   "source": [
    "summary(arima_forecast)"
   ]
  },
  {
   "cell_type": "code",
   "execution_count": null,
   "id": "d88e2cf7-fd21-4bf2-8fa2-2f657725f887",
   "metadata": {},
   "outputs": [],
   "source": []
  }
 ],
 "metadata": {
  "kernelspec": {
   "display_name": "R",
   "language": "R",
   "name": "ir"
  },
  "language_info": {
   "codemirror_mode": "r",
   "file_extension": ".r",
   "mimetype": "text/x-r-source",
   "name": "R",
   "pygments_lexer": "r",
   "version": "3.6.1"
  }
 },
 "nbformat": 4,
 "nbformat_minor": 5
}
