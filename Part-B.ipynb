{
 "cells": [
  {
   "cell_type": "code",
   "execution_count": 84,
   "id": "85795450-39db-455e-a891-e98531b18669",
   "metadata": {},
   "outputs": [],
   "source": [
    "library(dplyr) \n",
    "library(ggplot2) \n",
    "library(caret)  \n",
    "library(ROSE)"
   ]
  },
  {
   "cell_type": "code",
   "execution_count": 85,
   "id": "aef14ed8-0f47-4af4-a852-8a8a44b3417e",
   "metadata": {},
   "outputs": [
    {
     "data": {
      "text/html": [
       "<table>\n",
       "<thead><tr><th scope=col>Time</th><th scope=col>V1</th><th scope=col>V2</th><th scope=col>V3</th><th scope=col>V4</th><th scope=col>V5</th><th scope=col>V6</th><th scope=col>V7</th><th scope=col>V8</th><th scope=col>V9</th><th scope=col>...</th><th scope=col>V21</th><th scope=col>V22</th><th scope=col>V23</th><th scope=col>V24</th><th scope=col>V25</th><th scope=col>V26</th><th scope=col>V27</th><th scope=col>V28</th><th scope=col>Amount</th><th scope=col>Class</th></tr></thead>\n",
       "<tbody>\n",
       "\t<tr><td>0           </td><td>-0.6980436  </td><td>-0.04419812 </td><td>1.6811673   </td><td> 0.9745233  </td><td>-0.245692619</td><td> 0.34715606 </td><td> 0.19516625 </td><td> 0.08370937 </td><td> 0.3320762  </td><td>...         </td><td>-0.02528877 </td><td> 0.38346201 </td><td>-0.17712600 </td><td> 0.1105104  </td><td> 0.2466123  </td><td>-0.3923114  </td><td> 0.33748690 </td><td>-0.06418093 </td><td>149.62      </td><td>0           </td></tr>\n",
       "\t<tr><td>0           </td><td> 0.6118281  </td><td> 0.16162642 </td><td>0.1103481   </td><td> 0.3168994  </td><td> 0.043585540</td><td>-0.06183566 </td><td>-0.06418938 </td><td> 0.07217789 </td><td>-0.2331601  </td><td>...         </td><td>-0.31188331 </td><td>-0.88147339 </td><td> 0.16239800 </td><td>-0.5611484  </td><td> 0.3207289  </td><td> 0.2611633  </td><td>-0.02269927 </td><td> 0.04488712 </td><td>  2.69      </td><td>0           </td></tr>\n",
       "\t<tr><td>1           </td><td>-0.6972977  </td><td>-0.81384628 </td><td>1.1753368   </td><td> 0.2685503  </td><td>-0.365428546</td><td> 1.35179670 </td><td> 0.64468863 </td><td> 0.21006306 </td><td>-1.3826241  </td><td>...         </td><td> 0.34258177 </td><td> 1.06504576 </td><td> 1.45808689 </td><td>-1.1381284  </td><td>-0.6286053  </td><td>-0.2885504  </td><td>-0.13987025 </td><td>-0.18215547 </td><td>378.66      </td><td>0           </td></tr>\n",
       "\t<tr><td>1           </td><td>-0.4960260  </td><td>-0.11248295 </td><td>1.1884502   </td><td>-0.6104519  </td><td>-0.007486433</td><td> 0.93638751 </td><td> 0.19354560 </td><td> 0.32011743 </td><td>-1.2661192  </td><td>...         </td><td>-0.14960499 </td><td> 0.00727844 </td><td>-0.30514637 </td><td>-1.9410890  </td><td> 1.2420391  </td><td>-0.4603827  </td><td> 0.15849354 </td><td> 0.18735562 </td><td>123.50      </td><td>0           </td></tr>\n",
       "\t<tr><td>2           </td><td>-0.5945675  </td><td> 0.53302677 </td><td>1.0265370   </td><td> 0.2849940  </td><td>-0.295708736</td><td> 0.07201686 </td><td> 0.48298296 </td><td>-0.22944885 </td><td> 0.7464582  </td><td>...         </td><td>-0.01302746 </td><td> 1.10175693 </td><td>-0.22039050 </td><td> 0.2332575  </td><td>-0.3952447  </td><td> 1.0419856  </td><td> 0.55445514 </td><td> 0.65590152 </td><td> 69.99      </td><td>0           </td></tr>\n",
       "\t<tr><td>2           </td><td>-0.2186654  </td><td> 0.58330073 </td><td>0.7563618   </td><td>-0.1189747  </td><td> 0.305725744</td><td>-0.02231914 </td><td> 0.38789196 </td><td> 0.22078229 </td><td>-0.5191011  </td><td>...         </td><td>-0.28767899 </td><td>-0.77265121 </td><td>-0.04232414 </td><td>-0.6132929  </td><td>-0.4466323  </td><td> 0.2197161  </td><td> 0.64143563 </td><td> 0.24717586 </td><td>  3.67      </td><td>0           </td></tr>\n",
       "</tbody>\n",
       "</table>\n"
      ],
      "text/latex": [
       "\\begin{tabular}{r|lllllllllllllllllllllllllllllll}\n",
       " Time & V1 & V2 & V3 & V4 & V5 & V6 & V7 & V8 & V9 & ... & V21 & V22 & V23 & V24 & V25 & V26 & V27 & V28 & Amount & Class\\\\\n",
       "\\hline\n",
       "\t 0            & -0.6980436   & -0.04419812  & 1.6811673    &  0.9745233   & -0.245692619 &  0.34715606  &  0.19516625  &  0.08370937  &  0.3320762   & ...          & -0.02528877  &  0.38346201  & -0.17712600  &  0.1105104   &  0.2466123   & -0.3923114   &  0.33748690  & -0.06418093  & 149.62       & 0           \\\\\n",
       "\t 0            &  0.6118281   &  0.16162642  & 0.1103481    &  0.3168994   &  0.043585540 & -0.06183566  & -0.06418938  &  0.07217789  & -0.2331601   & ...          & -0.31188331  & -0.88147339  &  0.16239800  & -0.5611484   &  0.3207289   &  0.2611633   & -0.02269927  &  0.04488712  &   2.69       & 0           \\\\\n",
       "\t 1            & -0.6972977   & -0.81384628  & 1.1753368    &  0.2685503   & -0.365428546 &  1.35179670  &  0.64468863  &  0.21006306  & -1.3826241   & ...          &  0.34258177  &  1.06504576  &  1.45808689  & -1.1381284   & -0.6286053   & -0.2885504   & -0.13987025  & -0.18215547  & 378.66       & 0           \\\\\n",
       "\t 1            & -0.4960260   & -0.11248295  & 1.1884502    & -0.6104519   & -0.007486433 &  0.93638751  &  0.19354560  &  0.32011743  & -1.2661192   & ...          & -0.14960499  &  0.00727844  & -0.30514637  & -1.9410890   &  1.2420391   & -0.4603827   &  0.15849354  &  0.18735562  & 123.50       & 0           \\\\\n",
       "\t 2            & -0.5945675   &  0.53302677  & 1.0265370    &  0.2849940   & -0.295708736 &  0.07201686  &  0.48298296  & -0.22944885  &  0.7464582   & ...          & -0.01302746  &  1.10175693  & -0.22039050  &  0.2332575   & -0.3952447   &  1.0419856   &  0.55445514  &  0.65590152  &  69.99       & 0           \\\\\n",
       "\t 2            & -0.2186654   &  0.58330073  & 0.7563618    & -0.1189747   &  0.305725744 & -0.02231914  &  0.38789196  &  0.22078229  & -0.5191011   & ...          & -0.28767899  & -0.77265121  & -0.04232414  & -0.6132929   & -0.4466323   &  0.2197161   &  0.64143563  &  0.24717586  &   3.67       & 0           \\\\\n",
       "\\end{tabular}\n"
      ],
      "text/markdown": [
       "\n",
       "| Time | V1 | V2 | V3 | V4 | V5 | V6 | V7 | V8 | V9 | ... | V21 | V22 | V23 | V24 | V25 | V26 | V27 | V28 | Amount | Class |\n",
       "|---|---|---|---|---|---|---|---|---|---|---|---|---|---|---|---|---|---|---|---|---|\n",
       "| 0            | -0.6980436   | -0.04419812  | 1.6811673    |  0.9745233   | -0.245692619 |  0.34715606  |  0.19516625  |  0.08370937  |  0.3320762   | ...          | -0.02528877  |  0.38346201  | -0.17712600  |  0.1105104   |  0.2466123   | -0.3923114   |  0.33748690  | -0.06418093  | 149.62       | 0            |\n",
       "| 0            |  0.6118281   |  0.16162642  | 0.1103481    |  0.3168994   |  0.043585540 | -0.06183566  | -0.06418938  |  0.07217789  | -0.2331601   | ...          | -0.31188331  | -0.88147339  |  0.16239800  | -0.5611484   |  0.3207289   |  0.2611633   | -0.02269927  |  0.04488712  |   2.69       | 0            |\n",
       "| 1            | -0.6972977   | -0.81384628  | 1.1753368    |  0.2685503   | -0.365428546 |  1.35179670  |  0.64468863  |  0.21006306  | -1.3826241   | ...          |  0.34258177  |  1.06504576  |  1.45808689  | -1.1381284   | -0.6286053   | -0.2885504   | -0.13987025  | -0.18215547  | 378.66       | 0            |\n",
       "| 1            | -0.4960260   | -0.11248295  | 1.1884502    | -0.6104519   | -0.007486433 |  0.93638751  |  0.19354560  |  0.32011743  | -1.2661192   | ...          | -0.14960499  |  0.00727844  | -0.30514637  | -1.9410890   |  1.2420391   | -0.4603827   |  0.15849354  |  0.18735562  | 123.50       | 0            |\n",
       "| 2            | -0.5945675   |  0.53302677  | 1.0265370    |  0.2849940   | -0.295708736 |  0.07201686  |  0.48298296  | -0.22944885  |  0.7464582   | ...          | -0.01302746  |  1.10175693  | -0.22039050  |  0.2332575   | -0.3952447   |  1.0419856   |  0.55445514  |  0.65590152  |  69.99       | 0            |\n",
       "| 2            | -0.2186654   |  0.58330073  | 0.7563618    | -0.1189747   |  0.305725744 | -0.02231914  |  0.38789196  |  0.22078229  | -0.5191011   | ...          | -0.28767899  | -0.77265121  | -0.04232414  | -0.6132929   | -0.4466323   |  0.2197161   |  0.64143563  |  0.24717586  |   3.67       | 0            |\n",
       "\n"
      ],
      "text/plain": [
       "  Time V1         V2          V3        V4         V5           V6         \n",
       "1 0    -0.6980436 -0.04419812 1.6811673  0.9745233 -0.245692619  0.34715606\n",
       "2 0     0.6118281  0.16162642 0.1103481  0.3168994  0.043585540 -0.06183566\n",
       "3 1    -0.6972977 -0.81384628 1.1753368  0.2685503 -0.365428546  1.35179670\n",
       "4 1    -0.4960260 -0.11248295 1.1884502 -0.6104519 -0.007486433  0.93638751\n",
       "5 2    -0.5945675  0.53302677 1.0265370  0.2849940 -0.295708736  0.07201686\n",
       "6 2    -0.2186654  0.58330073 0.7563618 -0.1189747  0.305725744 -0.02231914\n",
       "  V7          V8          V9         ... V21         V22         V23        \n",
       "1  0.19516625  0.08370937  0.3320762 ... -0.02528877  0.38346201 -0.17712600\n",
       "2 -0.06418938  0.07217789 -0.2331601 ... -0.31188331 -0.88147339  0.16239800\n",
       "3  0.64468863  0.21006306 -1.3826241 ...  0.34258177  1.06504576  1.45808689\n",
       "4  0.19354560  0.32011743 -1.2661192 ... -0.14960499  0.00727844 -0.30514637\n",
       "5  0.48298296 -0.22944885  0.7464582 ... -0.01302746  1.10175693 -0.22039050\n",
       "6  0.38789196  0.22078229 -0.5191011 ... -0.28767899 -0.77265121 -0.04232414\n",
       "  V24        V25        V26        V27         V28         Amount Class\n",
       "1  0.1105104  0.2466123 -0.3923114  0.33748690 -0.06418093 149.62 0    \n",
       "2 -0.5611484  0.3207289  0.2611633 -0.02269927  0.04488712   2.69 0    \n",
       "3 -1.1381284 -0.6286053 -0.2885504 -0.13987025 -0.18215547 378.66 0    \n",
       "4 -1.9410890  1.2420391 -0.4603827  0.15849354  0.18735562 123.50 0    \n",
       "5  0.2332575 -0.3952447  1.0419856  0.55445514  0.65590152  69.99 0    \n",
       "6 -0.6132929 -0.4466323  0.2197161  0.64143563  0.24717586   3.67 0    "
      ]
     },
     "metadata": {},
     "output_type": "display_data"
    }
   ],
   "source": [
    "#Load the data\n",
    "data_fraud <- read.csv(\"C:/Users/ADMIN/Downloads/fraud.csv\")\n",
    "head(data_fraud)"
   ]
  },
  {
   "cell_type": "code",
   "execution_count": 72,
   "id": "e7bc44b1-52c4-49a2-b2b8-2c044ae8852a",
   "metadata": {},
   "outputs": [
    {
     "data": {
      "text/html": [
       "<table>\n",
       "<thead><tr><th></th><th scope=col>Time</th><th scope=col>V1</th><th scope=col>V2</th><th scope=col>V3</th><th scope=col>V4</th><th scope=col>V5</th><th scope=col>V6</th><th scope=col>V7</th><th scope=col>V8</th><th scope=col>V9</th><th scope=col>...</th><th scope=col>V21</th><th scope=col>V22</th><th scope=col>V23</th><th scope=col>V24</th><th scope=col>V25</th><th scope=col>V26</th><th scope=col>V27</th><th scope=col>V28</th><th scope=col>Amount</th><th scope=col>Class</th></tr></thead>\n",
       "<tbody>\n",
       "\t<tr><th scope=row>283721</th><td>172785      </td><td> 0.06176323 </td><td> 0.56537527 </td><td>-0.3619134  </td><td>-0.5268740  </td><td> 0.820847627</td><td>-0.1771663  </td><td> 0.66200698 </td><td> 0.09761454 </td><td>-0.1862756  </td><td>...         </td><td>-0.4340387  </td><td>-1.1158925  </td><td> 0.08071584 </td><td> 0.16974085 </td><td>-0.8362492  </td><td> 0.2573968  </td><td> 0.550709375</td><td> 0.20974925 </td><td>  2.69      </td><td>0           </td></tr>\n",
       "\t<tr><th scope=row>283722</th><td>172786      </td><td>-6.09905464 </td><td> 6.11633378 </td><td>-6.5187919  </td><td>-1.4613768  </td><td>-3.895744755</td><td>-1.9571871  </td><td>-4.00615791 </td><td> 6.19592603 </td><td> 1.7475504  </td><td>...         </td><td> 0.2948630  </td><td> 0.1543905  </td><td> 1.62654486 </td><td>-0.84102708 </td><td> 2.7566211  </td><td> 0.5186863  </td><td> 2.384499716</td><td> 2.51117120 </td><td>  0.77      </td><td>0           </td></tr>\n",
       "\t<tr><th scope=row>283723</th><td>172787      </td><td>-0.37616983 </td><td>-0.03344895 </td><td> 1.3488793  </td><td>-0.5222719  </td><td> 0.630518648</td><td> 0.7946475  </td><td> 0.01981788 </td><td> 0.25008913 </td><td> 0.5338239  </td><td>...         </td><td> 0.2959008  </td><td> 1.2758029  </td><td> 0.01998235 </td><td>-1.67797370 </td><td>-1.1638533  </td><td>-0.8199412  </td><td> 0.173022183</td><td>-0.16318002 </td><td> 24.79      </td><td>0           </td></tr>\n",
       "\t<tr><th scope=row>283724</th><td>172788      </td><td> 0.98538976 </td><td>-0.18294365 </td><td>-2.1539595  </td><td>-0.3944523  </td><td> 1.910311768</td><td> 2.2758394  </td><td>-0.24178159 </td><td> 0.60083502 </td><td> 0.3947577  </td><td>...         </td><td> 0.3205443  </td><td> 0.7980521  </td><td>-0.06012620 </td><td> 1.05697765 </td><td> 0.5098524  </td><td>-0.1812469  </td><td> 0.011256705</td><td>-0.08097157 </td><td> 67.88      </td><td>0           </td></tr>\n",
       "\t<tr><th scope=row>283725</th><td>172788      </td><td>-0.12342753 </td><td> 0.32214827 </td><td> 0.4656450  </td><td> 0.4877719  </td><td>-0.274479929</td><td> 0.4682734  </td><td>-0.55893147 </td><td> 0.57600857 </td><td> 0.3579091  </td><td>...         </td><td> 0.3664062  </td><td> 1.1042002  </td><td>-0.26182030 </td><td> 0.20343430 </td><td>-1.0919737  </td><td> 1.1340424  </td><td> 0.274977681</td><td> 0.31867178 </td><td> 10.00      </td><td>0           </td></tr>\n",
       "\t<tr><th scope=row>283726</th><td>172792      </td><td>-0.27382206 </td><td>-0.11522013 </td><td> 0.4661933  </td><td>-0.3579953  </td><td>-0.009110823</td><td>-0.4877256  </td><td> 1.28455863 </td><td>-0.35168046 </td><td> 0.4437999  </td><td>...         </td><td> 0.3606216  </td><td> 0.8875551  </td><td> 0.60409745 </td><td> 0.01452608 </td><td>-0.9087303  </td><td>-1.6974632  </td><td>-0.006103212</td><td> 0.04160917 </td><td>217.00      </td><td>0           </td></tr>\n",
       "</tbody>\n",
       "</table>\n"
      ],
      "text/latex": [
       "\\begin{tabular}{r|lllllllllllllllllllllllllllllll}\n",
       "  & Time & V1 & V2 & V3 & V4 & V5 & V6 & V7 & V8 & V9 & ... & V21 & V22 & V23 & V24 & V25 & V26 & V27 & V28 & Amount & Class\\\\\n",
       "\\hline\n",
       "\t283721 & 172785       &  0.06176323  &  0.56537527  & -0.3619134   & -0.5268740   &  0.820847627 & -0.1771663   &  0.66200698  &  0.09761454  & -0.1862756   & ...          & -0.4340387   & -1.1158925   &  0.08071584  &  0.16974085  & -0.8362492   &  0.2573968   &  0.550709375 &  0.20974925  &   2.69       & 0           \\\\\n",
       "\t283722 & 172786       & -6.09905464  &  6.11633378  & -6.5187919   & -1.4613768   & -3.895744755 & -1.9571871   & -4.00615791  &  6.19592603  &  1.7475504   & ...          &  0.2948630   &  0.1543905   &  1.62654486  & -0.84102708  &  2.7566211   &  0.5186863   &  2.384499716 &  2.51117120  &   0.77       & 0           \\\\\n",
       "\t283723 & 172787       & -0.37616983  & -0.03344895  &  1.3488793   & -0.5222719   &  0.630518648 &  0.7946475   &  0.01981788  &  0.25008913  &  0.5338239   & ...          &  0.2959008   &  1.2758029   &  0.01998235  & -1.67797370  & -1.1638533   & -0.8199412   &  0.173022183 & -0.16318002  &  24.79       & 0           \\\\\n",
       "\t283724 & 172788       &  0.98538976  & -0.18294365  & -2.1539595   & -0.3944523   &  1.910311768 &  2.2758394   & -0.24178159  &  0.60083502  &  0.3947577   & ...          &  0.3205443   &  0.7980521   & -0.06012620  &  1.05697765  &  0.5098524   & -0.1812469   &  0.011256705 & -0.08097157  &  67.88       & 0           \\\\\n",
       "\t283725 & 172788       & -0.12342753  &  0.32214827  &  0.4656450   &  0.4877719   & -0.274479929 &  0.4682734   & -0.55893147  &  0.57600857  &  0.3579091   & ...          &  0.3664062   &  1.1042002   & -0.26182030  &  0.20343430  & -1.0919737   &  1.1340424   &  0.274977681 &  0.31867178  &  10.00       & 0           \\\\\n",
       "\t283726 & 172792       & -0.27382206  & -0.11522013  &  0.4661933   & -0.3579953   & -0.009110823 & -0.4877256   &  1.28455863  & -0.35168046  &  0.4437999   & ...          &  0.3606216   &  0.8875551   &  0.60409745  &  0.01452608  & -0.9087303   & -1.6974632   & -0.006103212 &  0.04160917  & 217.00       & 0           \\\\\n",
       "\\end{tabular}\n"
      ],
      "text/markdown": [
       "\n",
       "| <!--/--> | Time | V1 | V2 | V3 | V4 | V5 | V6 | V7 | V8 | V9 | ... | V21 | V22 | V23 | V24 | V25 | V26 | V27 | V28 | Amount | Class |\n",
       "|---|---|---|---|---|---|---|---|---|---|---|---|---|---|---|---|---|---|---|---|---|---|\n",
       "| 283721 | 172785       |  0.06176323  |  0.56537527  | -0.3619134   | -0.5268740   |  0.820847627 | -0.1771663   |  0.66200698  |  0.09761454  | -0.1862756   | ...          | -0.4340387   | -1.1158925   |  0.08071584  |  0.16974085  | -0.8362492   |  0.2573968   |  0.550709375 |  0.20974925  |   2.69       | 0            |\n",
       "| 283722 | 172786       | -6.09905464  |  6.11633378  | -6.5187919   | -1.4613768   | -3.895744755 | -1.9571871   | -4.00615791  |  6.19592603  |  1.7475504   | ...          |  0.2948630   |  0.1543905   |  1.62654486  | -0.84102708  |  2.7566211   |  0.5186863   |  2.384499716 |  2.51117120  |   0.77       | 0            |\n",
       "| 283723 | 172787       | -0.37616983  | -0.03344895  |  1.3488793   | -0.5222719   |  0.630518648 |  0.7946475   |  0.01981788  |  0.25008913  |  0.5338239   | ...          |  0.2959008   |  1.2758029   |  0.01998235  | -1.67797370  | -1.1638533   | -0.8199412   |  0.173022183 | -0.16318002  |  24.79       | 0            |\n",
       "| 283724 | 172788       |  0.98538976  | -0.18294365  | -2.1539595   | -0.3944523   |  1.910311768 |  2.2758394   | -0.24178159  |  0.60083502  |  0.3947577   | ...          |  0.3205443   |  0.7980521   | -0.06012620  |  1.05697765  |  0.5098524   | -0.1812469   |  0.011256705 | -0.08097157  |  67.88       | 0            |\n",
       "| 283725 | 172788       | -0.12342753  |  0.32214827  |  0.4656450   |  0.4877719   | -0.274479929 |  0.4682734   | -0.55893147  |  0.57600857  |  0.3579091   | ...          |  0.3664062   |  1.1042002   | -0.26182030  |  0.20343430  | -1.0919737   |  1.1340424   |  0.274977681 |  0.31867178  |  10.00       | 0            |\n",
       "| 283726 | 172792       | -0.27382206  | -0.11522013  |  0.4661933   | -0.3579953   | -0.009110823 | -0.4877256   |  1.28455863  | -0.35168046  |  0.4437999   | ...          |  0.3606216   |  0.8875551   |  0.60409745  |  0.01452608  | -0.9087303   | -1.6974632   | -0.006103212 |  0.04160917  | 217.00       | 0            |\n",
       "\n"
      ],
      "text/plain": [
       "       Time   V1          V2          V3         V4         V5          \n",
       "283721 172785  0.06176323  0.56537527 -0.3619134 -0.5268740  0.820847627\n",
       "283722 172786 -6.09905464  6.11633378 -6.5187919 -1.4613768 -3.895744755\n",
       "283723 172787 -0.37616983 -0.03344895  1.3488793 -0.5222719  0.630518648\n",
       "283724 172788  0.98538976 -0.18294365 -2.1539595 -0.3944523  1.910311768\n",
       "283725 172788 -0.12342753  0.32214827  0.4656450  0.4877719 -0.274479929\n",
       "283726 172792 -0.27382206 -0.11522013  0.4661933 -0.3579953 -0.009110823\n",
       "       V6         V7          V8          V9         ... V21        V22       \n",
       "283721 -0.1771663  0.66200698  0.09761454 -0.1862756 ... -0.4340387 -1.1158925\n",
       "283722 -1.9571871 -4.00615791  6.19592603  1.7475504 ...  0.2948630  0.1543905\n",
       "283723  0.7946475  0.01981788  0.25008913  0.5338239 ...  0.2959008  1.2758029\n",
       "283724  2.2758394 -0.24178159  0.60083502  0.3947577 ...  0.3205443  0.7980521\n",
       "283725  0.4682734 -0.55893147  0.57600857  0.3579091 ...  0.3664062  1.1042002\n",
       "283726 -0.4877256  1.28455863 -0.35168046  0.4437999 ...  0.3606216  0.8875551\n",
       "       V23         V24         V25        V26        V27          V28        \n",
       "283721  0.08071584  0.16974085 -0.8362492  0.2573968  0.550709375  0.20974925\n",
       "283722  1.62654486 -0.84102708  2.7566211  0.5186863  2.384499716  2.51117120\n",
       "283723  0.01998235 -1.67797370 -1.1638533 -0.8199412  0.173022183 -0.16318002\n",
       "283724 -0.06012620  1.05697765  0.5098524 -0.1812469  0.011256705 -0.08097157\n",
       "283725 -0.26182030  0.20343430 -1.0919737  1.1340424  0.274977681  0.31867178\n",
       "283726  0.60409745  0.01452608 -0.9087303 -1.6974632 -0.006103212  0.04160917\n",
       "       Amount Class\n",
       "283721   2.69 0    \n",
       "283722   0.77 0    \n",
       "283723  24.79 0    \n",
       "283724  67.88 0    \n",
       "283725  10.00 0    \n",
       "283726 217.00 0    "
      ]
     },
     "metadata": {},
     "output_type": "display_data"
    }
   ],
   "source": [
    "tail(data_fraud)"
   ]
  },
  {
   "cell_type": "code",
   "execution_count": 86,
   "id": "e752a2b6-f99f-4479-a869-caad15e3a8d0",
   "metadata": {},
   "outputs": [
    {
     "data": {
      "text/html": [
       "<ol class=list-inline>\n",
       "\t<li>283726</li>\n",
       "\t<li>31</li>\n",
       "</ol>\n"
      ],
      "text/latex": [
       "\\begin{enumerate*}\n",
       "\\item 283726\n",
       "\\item 31\n",
       "\\end{enumerate*}\n"
      ],
      "text/markdown": [
       "1. 283726\n",
       "2. 31\n",
       "\n",
       "\n"
      ],
      "text/plain": [
       "[1] 283726     31"
      ]
     },
     "metadata": {},
     "output_type": "display_data"
    }
   ],
   "source": [
    "dim(data_fraud)"
   ]
  },
  {
   "cell_type": "code",
   "execution_count": 87,
   "id": "bf2baacf-3b71-4478-a2c3-d675d73588b1",
   "metadata": {},
   "outputs": [
    {
     "data": {
      "text/plain": [
       "      Time              V1                   V2                  V3           \n",
       " Min.   :     0   Min.   :-28.956239   Min.   :-44.15838   Min.   :-32.03166  \n",
       " 1st Qu.: 54205   1st Qu.: -0.470195   1st Qu.: -0.36456   1st Qu.: -0.58971  \n",
       " Median : 84693   Median :  0.010464   Median :  0.03883   Median :  0.11928  \n",
       " Mean   : 94811   Mean   :  0.003038   Mean   : -0.00251   Mean   :  0.00107  \n",
       " 3rd Qu.:139298   3rd Qu.:  0.675590   3rd Qu.:  0.48599   3rd Qu.:  0.68070  \n",
       " Max.   :172792   Max.   :  1.260214   Max.   : 13.39509   Max.   :  6.21904  \n",
       "       V4                  V5                  V6           \n",
       " Min.   :-4.018693   Min.   :-82.60176   Min.   :-19.64104  \n",
       " 1st Qu.:-0.601148   1st Qu.: -0.50096   1st Qu.: -0.57738  \n",
       " Median :-0.015732   Median : -0.03883   Median : -0.20659  \n",
       " Mean   :-0.002098   Mean   :  0.00133   Mean   : -0.00086  \n",
       " 3rd Qu.: 0.523020   3rd Qu.:  0.44460   3rd Qu.:  0.29791  \n",
       " Max.   :11.932920   Max.   : 25.27339   Max.   : 55.03412  \n",
       "       V7                  V8                  V9            \n",
       " Min.   :-35.47978   Min.   :-62.09783   Min.   :-12.263038  \n",
       " 1st Qu.: -0.45005   1st Qu.: -0.17712   1st Qu.: -0.588065  \n",
       " Median :  0.03328   Median :  0.01857   Median : -0.048011  \n",
       " Mean   :  0.00147   Mean   : -0.00072   Mean   : -0.001457  \n",
       " 3rd Qu.:  0.46468   3rd Qu.:  0.27624   3rd Qu.:  0.544026  \n",
       " Max.   : 98.22680   Max.   : 16.96886   Max.   : 14.235602  \n",
       "      V10                  V11                 V12            \n",
       " Min.   :-22.842897   Min.   :-4.709314   Min.   :-18.783749  \n",
       " 1st Qu.: -0.497561   1st Qu.:-0.747653   1st Qu.: -0.408373  \n",
       " Median : -0.086618   Median :-0.031712   Median :  0.139817  \n",
       " Mean   : -0.001338   Mean   : 0.000198   Mean   : -0.000719  \n",
       " 3rd Qu.:  0.421419   3rd Qu.: 0.725989   3rd Qu.:  0.620280  \n",
       " Max.   : 22.059619   Max.   :11.798052   Max.   :  7.890413  \n",
       "      V13                 V14                  V15          \n",
       " Min.   :-5.818474   Min.   :-20.178556   Min.   :-4.91745  \n",
       " 1st Qu.:-0.650837   1st Qu.: -0.447097   1st Qu.:-0.63554  \n",
       " Median :-0.012986   Median :  0.052728   Median : 0.05389  \n",
       " Mean   : 0.000606   Mean   :  0.000265   Mean   : 0.00114  \n",
       " 3rd Qu.: 0.666223   3rd Qu.:  0.517042   3rd Qu.: 0.71058  \n",
       " Max.   : 7.159605   Max.   : 11.055030   Max.   : 9.70358  \n",
       "      V16                 V17                  V18            \n",
       " Min.   :-16.17250   Min.   :-29.866565   Min.   :-11.343445  \n",
       " 1st Qu.: -0.53435   1st Qu.: -0.574390   1st Qu.: -0.594731  \n",
       " Median :  0.07682   Median : -0.078180   Median : -0.002558  \n",
       " Mean   :  0.00133   Mean   :  0.000202   Mean   :  0.001809  \n",
       " 3rd Qu.:  0.59919   3rd Qu.:  0.473553   3rd Qu.:  0.599438  \n",
       " Max.   : 19.81823   Max.   : 10.983319   Max.   :  6.020067  \n",
       "      V19                 V20                 V21           \n",
       " Min.   :-8.868598   Min.   :-70.77771   Min.   :-48.11429  \n",
       " 1st Qu.:-0.560980   1st Qu.: -0.27464   1st Qu.: -0.31538  \n",
       " Median : 0.004140   Median : -0.08098   Median : -0.04067  \n",
       " Mean   :-0.000325   Mean   :  0.00024   Mean   : -0.00051  \n",
       " 3rd Qu.: 0.563708   3rd Qu.:  0.17300   3rd Qu.:  0.25721  \n",
       " Max.   : 6.874992   Max.   : 51.19703   Max.   : 37.57769  \n",
       "      V22                  V23                 V24           \n",
       " Min.   :-15.089554   Min.   :-71.84153   Min.   :-4.683788  \n",
       " 1st Qu.: -0.749016   1st Qu.: -0.25926   1st Qu.:-0.585267  \n",
       " Median :  0.009212   Median : -0.01789   Median : 0.067724  \n",
       " Mean   : -0.000021   Mean   :  0.00032   Mean   : 0.000354  \n",
       " 3rd Qu.:  0.729066   3rd Qu.:  0.23689   3rd Qu.: 0.726088  \n",
       " Max.   : 14.496009   Max.   : 36.12045   Max.   : 7.569926  \n",
       "      V25                  V26                V27           \n",
       " Min.   :-19.752486   Min.   :-5.40304   Min.   :-57.02092  \n",
       " 1st Qu.: -0.609119   1st Qu.:-0.67786   1st Qu.: -0.17850  \n",
       " Median :  0.031231   Median :-0.10823   Median :  0.00374  \n",
       " Mean   : -0.000446   Mean   : 0.00031   Mean   :  0.00445  \n",
       " 3rd Qu.:  0.672781   3rd Qu.: 0.49841   3rd Qu.:  0.23047  \n",
       " Max.   : 14.426891   Max.   : 7.29660   Max.   : 79.88045  \n",
       "      V28                Amount             Class         \n",
       " Min.   :-47.03912   Min.   :    0.00   Min.   :0.000000  \n",
       " 1st Qu.: -0.16102   1st Qu.:    5.60   1st Qu.:0.000000  \n",
       " Median :  0.03441   Median :   22.00   Median :0.000000  \n",
       " Mean   :  0.00167   Mean   :   88.47   Mean   :0.001667  \n",
       " 3rd Qu.:  0.23863   3rd Qu.:   77.51   3rd Qu.:0.000000  \n",
       " Max.   :103.18617   Max.   :25691.16   Max.   :1.000000  "
      ]
     },
     "metadata": {},
     "output_type": "display_data"
    }
   ],
   "source": [
    "summary(data_fraud)"
   ]
  },
  {
   "cell_type": "code",
   "execution_count": 97,
   "id": "60d01b0e-2c03-4887-971f-801ec661900b",
   "metadata": {},
   "outputs": [
    {
     "data": {
      "text/plain": [
       "\n",
       "     0      1 \n",
       "283253    473 "
      ]
     },
     "metadata": {},
     "output_type": "display_data"
    }
   ],
   "source": [
    "table(data_fraud$Class)"
   ]
  },
  {
   "cell_type": "code",
   "execution_count": 101,
   "id": "05041c36-1a0c-420a-8131-735b4bf09d8a",
   "metadata": {},
   "outputs": [
    {
     "data": {
      "text/html": [
       "0"
      ],
      "text/latex": [
       "0"
      ],
      "text/markdown": [
       "0"
      ],
      "text/plain": [
       "[1] 0"
      ]
     },
     "metadata": {},
     "output_type": "display_data"
    }
   ],
   "source": [
    "#checking for the null values\n",
    "sum(is.na(data_fraud))"
   ]
  },
  {
   "cell_type": "code",
   "execution_count": 89,
   "id": "18a31edf-e464-45d7-9d83-cb6871602818",
   "metadata": {},
   "outputs": [
    {
     "data": {
      "text/html": [
       "<ol class=list-inline>\n",
       "\t<li>'Time'</li>\n",
       "\t<li>'V1'</li>\n",
       "\t<li>'V2'</li>\n",
       "\t<li>'V3'</li>\n",
       "\t<li>'V4'</li>\n",
       "\t<li>'V5'</li>\n",
       "\t<li>'V6'</li>\n",
       "\t<li>'V7'</li>\n",
       "\t<li>'V8'</li>\n",
       "\t<li>'V9'</li>\n",
       "\t<li>'V10'</li>\n",
       "\t<li>'V11'</li>\n",
       "\t<li>'V12'</li>\n",
       "\t<li>'V13'</li>\n",
       "\t<li>'V14'</li>\n",
       "\t<li>'V15'</li>\n",
       "\t<li>'V16'</li>\n",
       "\t<li>'V17'</li>\n",
       "\t<li>'V18'</li>\n",
       "\t<li>'V19'</li>\n",
       "\t<li>'V20'</li>\n",
       "\t<li>'V21'</li>\n",
       "\t<li>'V22'</li>\n",
       "\t<li>'V23'</li>\n",
       "\t<li>'V24'</li>\n",
       "\t<li>'V25'</li>\n",
       "\t<li>'V26'</li>\n",
       "\t<li>'V27'</li>\n",
       "\t<li>'V28'</li>\n",
       "\t<li>'Amount'</li>\n",
       "\t<li>'Class'</li>\n",
       "</ol>\n"
      ],
      "text/latex": [
       "\\begin{enumerate*}\n",
       "\\item 'Time'\n",
       "\\item 'V1'\n",
       "\\item 'V2'\n",
       "\\item 'V3'\n",
       "\\item 'V4'\n",
       "\\item 'V5'\n",
       "\\item 'V6'\n",
       "\\item 'V7'\n",
       "\\item 'V8'\n",
       "\\item 'V9'\n",
       "\\item 'V10'\n",
       "\\item 'V11'\n",
       "\\item 'V12'\n",
       "\\item 'V13'\n",
       "\\item 'V14'\n",
       "\\item 'V15'\n",
       "\\item 'V16'\n",
       "\\item 'V17'\n",
       "\\item 'V18'\n",
       "\\item 'V19'\n",
       "\\item 'V20'\n",
       "\\item 'V21'\n",
       "\\item 'V22'\n",
       "\\item 'V23'\n",
       "\\item 'V24'\n",
       "\\item 'V25'\n",
       "\\item 'V26'\n",
       "\\item 'V27'\n",
       "\\item 'V28'\n",
       "\\item 'Amount'\n",
       "\\item 'Class'\n",
       "\\end{enumerate*}\n"
      ],
      "text/markdown": [
       "1. 'Time'\n",
       "2. 'V1'\n",
       "3. 'V2'\n",
       "4. 'V3'\n",
       "5. 'V4'\n",
       "6. 'V5'\n",
       "7. 'V6'\n",
       "8. 'V7'\n",
       "9. 'V8'\n",
       "10. 'V9'\n",
       "11. 'V10'\n",
       "12. 'V11'\n",
       "13. 'V12'\n",
       "14. 'V13'\n",
       "15. 'V14'\n",
       "16. 'V15'\n",
       "17. 'V16'\n",
       "18. 'V17'\n",
       "19. 'V18'\n",
       "20. 'V19'\n",
       "21. 'V20'\n",
       "22. 'V21'\n",
       "23. 'V22'\n",
       "24. 'V23'\n",
       "25. 'V24'\n",
       "26. 'V25'\n",
       "27. 'V26'\n",
       "28. 'V27'\n",
       "29. 'V28'\n",
       "30. 'Amount'\n",
       "31. 'Class'\n",
       "\n",
       "\n"
      ],
      "text/plain": [
       " [1] \"Time\"   \"V1\"     \"V2\"     \"V3\"     \"V4\"     \"V5\"     \"V6\"     \"V7\"    \n",
       " [9] \"V8\"     \"V9\"     \"V10\"    \"V11\"    \"V12\"    \"V13\"    \"V14\"    \"V15\"   \n",
       "[17] \"V16\"    \"V17\"    \"V18\"    \"V19\"    \"V20\"    \"V21\"    \"V22\"    \"V23\"   \n",
       "[25] \"V24\"    \"V25\"    \"V26\"    \"V27\"    \"V28\"    \"Amount\" \"Class\" "
      ]
     },
     "metadata": {},
     "output_type": "display_data"
    }
   ],
   "source": [
    "colnames(data_fraud)"
   ]
  },
  {
   "cell_type": "code",
   "execution_count": 90,
   "id": "68f4140a-b428-4031-9a9a-b30cbf2576f8",
   "metadata": {},
   "outputs": [
    {
     "name": "stdout",
     "output_type": "stream",
     "text": [
      "'data.frame':\t283726 obs. of  31 variables:\n",
      " $ Time  : num  0 0 1 1 2 2 4 7 7 9 ...\n",
      " $ V1    : num  -0.698 0.612 -0.697 -0.496 -0.595 ...\n",
      " $ V2    : num  -0.0442 0.1616 -0.8138 -0.1125 0.533 ...\n",
      " $ V3    : num  1.68 0.11 1.18 1.19 1.03 ...\n",
      " $ V4    : num  0.975 0.317 0.269 -0.61 0.285 ...\n",
      " $ V5    : num  -0.24569 0.04359 -0.36543 -0.00749 -0.29571 ...\n",
      " $ V6    : num  0.3472 -0.0618 1.3518 0.9364 0.072 ...\n",
      " $ V7    : num  0.1952 -0.0642 0.6447 0.1935 0.483 ...\n",
      " $ V8    : num  0.0837 0.0722 0.2101 0.3201 -0.2294 ...\n",
      " $ V9    : num  0.332 -0.233 -1.383 -1.266 0.746 ...\n",
      " $ V10   : num  0.0843 -0.1551 0.1929 -0.0511 0.6996 ...\n",
      " $ V11   : num  -0.541 1.583 0.613 -0.222 -0.808 ...\n",
      " $ V12   : num  -0.6211 1.0709 0.0664 0.1792 0.5411 ...\n",
      " $ V13   : num  -0.996 0.491 0.721 0.51 1.352 ...\n",
      " $ V14   : num  -0.327 -0.151 -0.174 -0.302 -1.176 ...\n",
      " $ V15   : num  1.605 0.695 2.564 -0.69 0.191 ...\n",
      " $ V16   : num  -0.538 0.531 -3.308 -1.213 -0.517 ...\n",
      " $ V17   : num  0.247 -0.136 1.317 -0.812 -0.281 ...\n",
      " $ V18   : num  0.0308 -0.219 -0.1449 2.3475 -0.0456 ...\n",
      " $ V19   : num  0.497 -0.179 -2.781 -1.515 0.988 ...\n",
      " $ V20   : num  0.3265 -0.0897 0.6818 -0.2702 0.5306 ...\n",
      " $ V21   : num  -0.0253 -0.3119 0.3426 -0.1496 -0.013 ...\n",
      " $ V22   : num  0.38346 -0.88147 1.06505 0.00728 1.10176 ...\n",
      " $ V23   : num  -0.177 0.162 1.458 -0.305 -0.22 ...\n",
      " $ V24   : num  0.111 -0.561 -1.138 -1.941 0.233 ...\n",
      " $ V25   : num  0.247 0.321 -0.629 1.242 -0.395 ...\n",
      " $ V26   : num  -0.392 0.261 -0.289 -0.46 1.042 ...\n",
      " $ V27   : num  0.3375 -0.0227 -0.1399 0.1585 0.5545 ...\n",
      " $ V28   : num  -0.0642 0.0449 -0.1822 0.1874 0.6559 ...\n",
      " $ Amount: num  149.62 2.69 378.66 123.5 69.99 ...\n",
      " $ Class : int  0 0 0 0 0 0 0 0 0 0 ...\n"
     ]
    }
   ],
   "source": [
    "str(data_fraud)"
   ]
  },
  {
   "cell_type": "code",
   "execution_count": 141,
   "id": "d249218a-a2aa-42eb-9f35-2166d84159a9",
   "metadata": {},
   "outputs": [
    {
     "data": {
      "image/png": "[encoded data removed]",
      "text/plain": [
       "plot without title"
      ]
     },
     "metadata": {},
     "output_type": "display_data"
    }
   ],
   "source": [
    "# Create a bar plot for class distribution\n",
    "ggplot(data = data_fraud, aes(x = factor(Class))) +\n",
    "  geom_bar(fill = \"brown\") +\n",
    "  labs(title = \"Class Distribution\",\n",
    "       x = \"Class (1: Non-Fraud, 2: Fraud)\",\n",
    "       y = \"Count\") +\n",
    "  theme_minimal()\n"
   ]
  },
  {
   "cell_type": "code",
   "execution_count": 149,
   "id": "f298a903-64ea-42dd-996a-cb49c357d2a9",
   "metadata": {},
   "outputs": [
    {
     "data": {
      "image/png": "[encoded data removed]",
      "text/plain": [
       "Plot with title \"Distribution of Transaction Amount\""
      ]
     },
     "metadata": {},
     "output_type": "display_data"
    }
   ],
   "source": [
    "# Set up the figure size\n",
    "options(repr.plot.width=10, repr.plot.height=6)\n",
    "\n",
    "# Create a histogram for the distribution of transaction amounts\n",
    "hist(data_fraud$Amount, breaks = 50, col = \"pink\", main = \"Distribution of Transaction Amount\", xlab = \"Amount (Euro)\", ylab = \"Frequency\")\n"
   ]
  },
  {
   "cell_type": "code",
   "execution_count": 167,
   "id": "6ccdb9b8-af41-490f-a091-3187d079bee4",
   "metadata": {},
   "outputs": [
    {
     "data": {
      "image/png": "[encoded data removed]",
      "text/plain": [
       "Plot with title \"Boxplot of Transaction Amount by Class\""
      ]
     },
     "metadata": {},
     "output_type": "display_data"
    }
   ],
   "source": [
    "# Boxplot of Amount by Class\n",
    "boxplot(Amount ~ Class, data = data_fraud, main = \"Boxplot of Transaction Amount by Class\", xlab = \"Class\", ylab = \"Amount\")"
   ]
  },
  {
   "cell_type": "code",
   "execution_count": 146,
   "id": "8edadab4-8fa0-4735-8288-6f84b165badc",
   "metadata": {},
   "outputs": [],
   "source": [
    "# Log transformation for Amount\n",
    "data_fraud$Amount_log <- log1p(data_fraud$Amount)"
   ]
  },
  {
   "cell_type": "code",
   "execution_count": 148,
   "id": "fb910601-8d2d-470e-83c2-781d9fd4b8f2",
   "metadata": {},
   "outputs": [
    {
     "data": {
      "image/png": "[encoded data removed]",
      "text/plain": [
       "Plot with title \"Distribution of Log-Transformed Transaction Amount\""
      ]
     },
     "metadata": {},
     "output_type": "display_data"
    }
   ],
   "source": [
    "# Updated Distribution of Amount after log transformation\n",
    "hist(data_fraud$Amount_log, breaks = 50, main = \"Distribution of Log-Transformed Transaction Amount\", xlab = \"Log Amount (Euro)\", ylab = \"Frequency\", col = \"green\", border = \"black\")\n"
   ]
  },
  {
   "cell_type": "code",
   "execution_count": 150,
   "id": "9cbdc5cc-62ef-4223-b1a7-ab15f4aac109",
   "metadata": {},
   "outputs": [],
   "source": [
    "# Splitting the dataset into features (X) and target variable (y)\n",
    "X <- data_fraud[, !(names(data_fraud) %in% c(\"Class\", \"Amount\"))]  # log transformed 'Amount' is already in the dataset\n",
    "y <- data_fraud$Class\n",
    "\n",
    "# Load the necessary library for splitting\n",
    "library(caTools)\n",
    "\n",
    "# Splitting the data into train and test sets\n",
    "set.seed(42)  # Set random seed for reproducibility\n",
    "split <- sample.split(y, SplitRatio = 0.8)\n",
    "X_train <- X[split, ]\n",
    "X_test <- X[!split, ]\n",
    "y_train <- y[split]\n",
    "y_test <- y[!split]\n"
   ]
  },
  {
   "cell_type": "markdown",
   "id": "04d42a52-a57a-41cf-b0fb-db7c4089b670",
   "metadata": {},
   "source": [
    "## Applying Logistic Regression"
   ]
  },
  {
   "cell_type": "code",
   "execution_count": 181,
   "id": "e5964b0e-9008-4626-9edd-b2da9e5aa8fa",
   "metadata": {},
   "outputs": [
    {
     "name": "stdout",
     "output_type": "stream",
     "text": [
      "[1] \"Confusion Matrix:\"\n",
      "Confusion Matrix and Statistics\n",
      "\n",
      "          Reference\n",
      "Prediction     0     1\n",
      "         0 56642    35\n",
      "         1     9    60\n",
      "                                         \n",
      "               Accuracy : 0.9992         \n",
      "                 95% CI : (0.999, 0.9994)\n",
      "    No Information Rate : 0.9983         \n",
      "    P-Value [Acc > NIR] : 3.895e-09      \n",
      "                                         \n",
      "                  Kappa : 0.7313         \n",
      "                                         \n",
      " Mcnemar's Test P-Value : 0.000164       \n",
      "                                         \n",
      "            Sensitivity : 0.9998         \n",
      "            Specificity : 0.6316         \n",
      "         Pos Pred Value : 0.9994         \n",
      "         Neg Pred Value : 0.8696         \n",
      "             Prevalence : 0.9983         \n",
      "         Detection Rate : 0.9982         \n",
      "   Detection Prevalence : 0.9988         \n",
      "      Balanced Accuracy : 0.8157         \n",
      "                                         \n",
      "       'Positive' Class : 0              \n",
      "                                         \n"
     ]
    }
   ],
   "source": [
    "# Load the caret package\n",
    "library(caret)\n",
    "\n",
    "# Convert y_test and y_pred to factors\n",
    "y_test <- factor(y_test, levels = c(0, 1))\n",
    "y_pred <- factor(y_pred, levels = c(0, 1))\n",
    "\n",
    "# Classification report\n",
    "conf_matrix <- confusionMatrix(y_pred, y_test)\n",
    "print(\"Confusion Matrix:\")\n",
    "print(conf_matrix)\n",
    "\n"
   ]
  },
  {
   "cell_type": "code",
   "execution_count": 179,
   "id": "f73536c6-1b8b-49dc-9392-fa06903b17df",
   "metadata": {},
   "outputs": [
    {
     "data": {
      "image/png": "[encoded data removed]",
      "text/plain": [
       "plot without title"
      ]
     },
     "metadata": {},
     "output_type": "display_data"
    }
   ],
   "source": [
    " # Convert confusion matrix to data frame\n",
    "conf_df <- as.data.frame(as.table(conf_matrix))\n",
    "colnames(conf_df) <- c(\"Actual\", \"Predicted\", \"Freq\")\n",
    "\n",
    "# Plotting confusion matrix\n",
    "ggplot(data = conf_df, aes(x = Actual, y = Predicted, fill = Freq)) +\n",
    "  geom_tile() +\n",
    "  geom_text(aes(label = Freq), color = \"black\") +\n",
    "  scale_fill_gradient(low = \"lightblue\", high = \"darkblue\") +\n",
    "  labs(title = \"Confusion Matrix\", x = \"True Label\", y = \"Predicted Label\") +\n",
    "  theme_bw() +\n",
    "  theme(axis.text.x = element_text(angle = 45, hjust = 1))\n"
   ]
  },
  {
   "cell_type": "code",
   "execution_count": 183,
   "id": "6bc41f41-708e-4de0-ad39-c9b373c476f3",
   "metadata": {},
   "outputs": [
    {
     "name": "stderr",
     "output_type": "stream",
     "text": [
      "Warning message in `==.default`(y, y_pred):\n",
      "\"longer object length is not a multiple of shorter object length\"Warning message in is.na(e1) | is.na(e2):\n",
      "\"longer object length is not a multiple of shorter object length\""
     ]
    },
    {
     "name": "stdout",
     "output_type": "stream",
     "text": [
      "[1] \"Weighted Accuracy on Complete Dataset:\"\n"
     ]
    }
   ],
   "source": [
    "# Calculate the weighted accuracy\n",
    "weights <- ifelse(y == 0, 1, 283726/473)\n",
    "weighted_accuracy <- sum(weights * (y == y_pred)) / sum(weights)\n",
    "\n",
    "# Print the weighted accuracy\n",
    "print(\"Weighted Accuracy on Complete Dataset:\", weighted_accuracy)"
   ]
  },
  {
   "cell_type": "code",
   "execution_count": 175,
   "id": "8c86218d-ce7e-47b4-9e63-574a78d86f59",
   "metadata": {},
   "outputs": [
    {
     "data": {
      "image/png": "[encoded data removed]",
      "text/plain": [
       "Plot with title \"Transaction Amount Distribution\""
      ]
     },
     "metadata": {},
     "output_type": "display_data"
    },
    {
     "data": {
      "image/png": "[encoded data removed]",
      "text/plain": [
       "Plot with title \"Correlation Heatmap of V1-V28\""
      ]
     },
     "metadata": {},
     "output_type": "display_data"
    }
   ],
   "source": [
    " # Set up the figure size and layout\n",
    "par(mfrow=c(1, 3))\n",
    "options(repr.plot.width=18, repr.plot.height=6)  #\n",
    "\n",
    "# Plotting the distribution of transactions over time\n",
    "hist(data_fraud$Time[data_fraud$Class == 0], breaks=50, col='blue', main='Transaction Time Distribution', xlab='Time (in seconds)', ylim=c(0, 5000), xlim=c(0, 175000))\n",
    "hist(data_fraud$Time[data_fraud$Class == 1], breaks=50, col='red', add=TRUE)\n",
    "legend('topright', legend=c('Non-Fraud', 'Fraud'), fill=c('blue', 'red'))\n",
    "\n",
    "# Plotting the distribution of transaction amounts\n",
    "hist(data_fraud$Amount[data_fraud$Class == 0], breaks=100, col='blue', main='Transaction Amount Distribution', xlab='Amount (Euro)', ylim=c(0, 3000), xlim=c(0, 3000), prob=TRUE)\n",
    "hist(data_fraud$Amount[data_fraud$Class == 1], breaks=100, col='red', add=TRUE, prob=TRUE)\n",
    "legend('topright', legend=c('Non-Fraud', 'Fraud'), fill=c('blue', 'red'))\n",
    "\n",
    "# Plotting the correlation of features V1 to V28\n",
    "corr <- cor(data_fraud[, 2:29])\n",
    "heatmap(corr, Rowv=NA, Colv=NA, col=colorRampPalette(c(\"blue\", \"white\", \"red\"))(100), scale=\"none\", margins=c(5, 5), main=\"Correlation Heatmap of V1-V28\")\n"
   ]
  },
  {
   "cell_type": "code",
   "execution_count": null,
   "id": "322627dd-1356-4d72-a1a6-2a483e3c4799",
   "metadata": {},
   "outputs": [],
   "source": []
  }
 ],
 "metadata": {
  "kernelspec": {
   "display_name": "R",
   "language": "R",
   "name": "ir"
  },
  "language_info": {
   "codemirror_mode": "r",
   "file_extension": ".r",
   "mimetype": "text/x-r-source",
   "name": "R",
   "pygments_lexer": "r",
   "version": "3.6.1"
  }
 },
 "nbformat": 4,
 "nbformat_minor": 5
}
